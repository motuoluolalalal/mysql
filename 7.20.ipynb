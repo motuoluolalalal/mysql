{
 "cells": [
  {
   "cell_type": "markdown",
   "metadata": {},
   "source": [
    "# 函数\n",
    "\n",
    "- 函数可以用来定义可重复代码，组织和简化\n",
    "- 一般来说一个函数在实际开发中为一个小功能\n",
    "- 一个类为一个大功能\n",
    "- 同样函数的长度不要超过一屏"
   ]
  },
  {
   "cell_type": "markdown",
   "metadata": {},
   "source": [
    "Python中的所有函数实际上都是有返回值(return None),\n",
    "\n",
    "如果你没有设置return,那么Python将不显示None.\n",
    "\n",
    "如果你设置return,那么将返回出return这个值."
   ]
  },
  {
   "cell_type": "code",
   "execution_count": 11,
   "metadata": {},
   "outputs": [],
   "source": [
    "def mxt():\n",
    "    print(\"maxuetig\")\n",
    "    return 100"
   ]
  },
  {
   "cell_type": "code",
   "execution_count": 12,
   "metadata": {},
   "outputs": [
    {
     "name": "stdout",
     "output_type": "stream",
     "text": [
      "maxuetig\n"
     ]
    },
    {
     "data": {
      "text/plain": [
       "100"
      ]
     },
     "execution_count": 12,
     "metadata": {},
     "output_type": "execute_result"
    }
   ],
   "source": [
    "mxt()"
   ]
  },
  {
   "cell_type": "code",
   "execution_count": 1,
   "metadata": {},
   "outputs": [],
   "source": [
    "def mxt():\n",
    "    print(\"maxuetig\")"
   ]
  },
  {
   "cell_type": "code",
   "execution_count": 2,
   "metadata": {},
   "outputs": [
    {
     "name": "stdout",
     "output_type": "stream",
     "text": [
      "maxuetig\n"
     ]
    }
   ],
   "source": [
    "#函数需要调用\n",
    "mxt()"
   ]
  },
  {
   "cell_type": "code",
   "execution_count": 3,
   "metadata": {},
   "outputs": [
    {
     "data": {
      "text/plain": [
       "<function __main__.mxt()>"
      ]
     },
     "execution_count": 3,
     "metadata": {},
     "output_type": "execute_result"
    }
   ],
   "source": [
    "mxt"
   ]
  },
  {
   "cell_type": "code",
   "execution_count": 4,
   "metadata": {},
   "outputs": [],
   "source": [
    "def mxt(name):\n",
    "    print(name,\"beautiful\")"
   ]
  },
  {
   "cell_type": "code",
   "execution_count": 5,
   "metadata": {},
   "outputs": [
    {
     "name": "stdout",
     "output_type": "stream",
     "text": [
      "xt beautiful\n"
     ]
    }
   ],
   "source": [
    "mxt(\"xt\")"
   ]
  },
  {
   "cell_type": "code",
   "execution_count": 9,
   "metadata": {},
   "outputs": [],
   "source": [
    "def panduan(number):\n",
    "    if number % 2 == 0:\n",
    "        print (number,\"偶\")\n",
    "    else:\n",
    "        print(number,\"奇\")"
   ]
  },
  {
   "cell_type": "code",
   "execution_count": 10,
   "metadata": {},
   "outputs": [
    {
     "name": "stdout",
     "output_type": "stream",
     "text": [
      "6 偶\n"
     ]
    }
   ],
   "source": [
    "panduan(number = 6)"
   ]
  },
  {
   "cell_type": "code",
   "execution_count": null,
   "metadata": {},
   "outputs": [],
   "source": [
    "#有默认值的时候不用传参\n",
    "#带默认值的一定只能放在最后"
   ]
  },
  {
   "cell_type": "code",
   "execution_count": null,
   "metadata": {},
   "outputs": [],
   "source": []
  },
  {
   "cell_type": "code",
   "execution_count": null,
   "metadata": {},
   "outputs": [],
   "source": []
  },
  {
   "cell_type": "code",
   "execution_count": null,
   "metadata": {},
   "outputs": [],
   "source": []
  },
  {
   "cell_type": "markdown",
   "metadata": {},
   "source": [
    "## 定义一个函数\n",
    "\n",
    "def function_name(list of parameters):\n",
    "    \n",
    "    do something\n",
    "![](../Photo/69.png)\n",
    "- 以前使用的random 或者range 或者print.. 其实都是函数或者类"
   ]
  },
  {
   "cell_type": "code",
   "execution_count": 24,
   "metadata": {},
   "outputs": [
    {
     "ename": "SyntaxError",
     "evalue": "invalid syntax (<ipython-input-24-7a65874b1c06>, line 7)",
     "output_type": "error",
     "traceback": [
      "\u001b[1;36m  File \u001b[1;32m\"<ipython-input-24-7a65874b1c06>\"\u001b[1;36m, line \u001b[1;32m7\u001b[0m\n\u001b[1;33m    elif:\u001b[0m\n\u001b[1;37m        ^\u001b[0m\n\u001b[1;31mSyntaxError\u001b[0m\u001b[1;31m:\u001b[0m invalid syntax\n"
     ]
    }
   ],
   "source": [
    "#三个数字比较大小\n",
    "def max(num1,num2,num3):\n",
    "    if num1 > num2 and num1 > num3:\n",
    "        result = num1\n",
    "    elif num2 > num3 and num2 > num1:\n",
    "        result = num2\n",
    "    elif:\n",
    "        num3 > num1 and num3 > num2\n",
    "    return result"
   ]
  },
  {
   "cell_type": "code",
   "execution_count": null,
   "metadata": {},
   "outputs": [],
   "source": []
  },
  {
   "cell_type": "code",
   "execution_count": 15,
   "metadata": {},
   "outputs": [
    {
     "data": {
      "text/plain": [
       "3"
      ]
     },
     "execution_count": 15,
     "metadata": {},
     "output_type": "execute_result"
    }
   ],
   "source": [
    "max(1,2,3,)"
   ]
  },
  {
   "cell_type": "code",
   "execution_count": 23,
   "metadata": {},
   "outputs": [
    {
     "data": {
      "text/plain": [
       "7"
      ]
     },
     "execution_count": 23,
     "metadata": {},
     "output_type": "execute_result"
    }
   ],
   "source": [
    "max(8,7,6)"
   ]
  },
  {
   "cell_type": "code",
   "execution_count": 20,
   "metadata": {},
   "outputs": [],
   "source": [
    "def max(num1,num2,num3):\n",
    "    if num1 >= num2:\n",
    "        return num1\n",
    "        if num3 >= num1:\n",
    "            return num3\n",
    "        else:\n",
    "            if num3 > num2:\n",
    "                return num3\n",
    "    else:\n",
    "        return num1\n",
    "        if num3 >= num2:\n",
    "            return num1\n",
    "        else:\n",
    "            if num3 >= num1:\n",
    "                return num1\n",
    "            else:\n",
    "                return num3\n",
    "    return result"
   ]
  },
  {
   "cell_type": "code",
   "execution_count": 21,
   "metadata": {},
   "outputs": [
    {
     "data": {
      "text/plain": [
       "7"
      ]
     },
     "execution_count": 21,
     "metadata": {},
     "output_type": "execute_result"
    }
   ],
   "source": [
    "max(7,8,6)"
   ]
  },
  {
   "cell_type": "code",
   "execution_count": 25,
   "metadata": {},
   "outputs": [],
   "source": [
    "import random"
   ]
  },
  {
   "cell_type": "code",
   "execution_count": null,
   "metadata": {},
   "outputs": [],
   "source": [
    "#随机数看大小\n",
    "a = random.randiant(0,5)\n",
    "while 1:\n",
    "    a = eval(input(\">>\"))\n",
    "    if a == b:\n",
    "        print"
   ]
  },
  {
   "cell_type": "code",
   "execution_count": null,
   "metadata": {},
   "outputs": [],
   "source": []
  },
  {
   "cell_type": "code",
   "execution_count": 6,
   "metadata": {},
   "outputs": [],
   "source": [
    "def max(num1,num2):\n",
    "    if num1 > num2:\n",
    "        result = num1\n",
    "    else:\n",
    "        result = num2\n",
    "    return result"
   ]
  },
  {
   "cell_type": "code",
   "execution_count": 7,
   "metadata": {},
   "outputs": [
    {
     "data": {
      "text/plain": [
       "2"
      ]
     },
     "execution_count": 7,
     "metadata": {},
     "output_type": "execute_result"
    }
   ],
   "source": [
    "max(1,2)"
   ]
  },
  {
   "cell_type": "markdown",
   "metadata": {},
   "source": [
    "函数的参数如果有默认值的情况,当你调用该函数的时候:\n",
    "可以不给予参数值,那么就会走该参数的默认值\n",
    "否则的话,就走你给予的参数值."
   ]
  },
  {
   "cell_type": "markdown",
   "metadata": {},
   "source": [
    "## 调用一个函数\n",
    "- functionName()\n",
    "- \"()\" 就代表调用"
   ]
  },
  {
   "cell_type": "markdown",
   "metadata": {},
   "source": [
    "![](../Photo/70.png)"
   ]
  },
  {
   "cell_type": "markdown",
   "metadata": {},
   "source": [
    "## 带返回值和不带返回值的函数\n",
    "- return 返回的内容\n",
    "- return 返回多个值\n",
    "- 一般情况下，在多个函数协同完成一个功能的时候，那么将会有返回值"
   ]
  },
  {
   "cell_type": "code",
   "execution_count": 26,
   "metadata": {},
   "outputs": [],
   "source": [
    "#作业：递归调用汉诺塔函数"
   ]
  },
  {
   "cell_type": "markdown",
   "metadata": {},
   "source": [
    "![](../Photo/71.png)\n",
    "\n",
    "- 当然也可以自定义返回None"
   ]
  },
  {
   "cell_type": "code",
   "execution_count": null,
   "metadata": {},
   "outputs": [],
   "source": []
  },
  {
   "cell_type": "markdown",
   "metadata": {},
   "source": [
    "## EP：\n",
    "![](../Photo/72.png)"
   ]
  },
  {
   "cell_type": "code",
   "execution_count": 27,
   "metadata": {},
   "outputs": [],
   "source": [
    "#嵌套式一定要从里往外看\n",
    "def main():\n",
    "    print(min(min(5,6),(51,6)))\n",
    "def min(n1,n2):\n",
    "    smallest = n1\n",
    "    if n2 < smallest:\n",
    "        smallest = n2"
   ]
  },
  {
   "cell_type": "code",
   "execution_count": 28,
   "metadata": {},
   "outputs": [
    {
     "ename": "TypeError",
     "evalue": "'<' not supported between instances of 'tuple' and 'NoneType'",
     "output_type": "error",
     "traceback": [
      "\u001b[1;31m---------------------------------------------------------------------------\u001b[0m",
      "\u001b[1;31mTypeError\u001b[0m                                 Traceback (most recent call last)",
      "\u001b[1;32m<ipython-input-28-263240bbee7e>\u001b[0m in \u001b[0;36m<module>\u001b[1;34m\u001b[0m\n\u001b[1;32m----> 1\u001b[1;33m \u001b[0mmain\u001b[0m\u001b[1;33m(\u001b[0m\u001b[1;33m)\u001b[0m\u001b[1;33m\u001b[0m\u001b[1;33m\u001b[0m\u001b[0m\n\u001b[0m",
      "\u001b[1;32m<ipython-input-27-eb2e9e9a975b>\u001b[0m in \u001b[0;36mmain\u001b[1;34m()\u001b[0m\n\u001b[0;32m      1\u001b[0m \u001b[1;32mdef\u001b[0m \u001b[0mmain\u001b[0m\u001b[1;33m(\u001b[0m\u001b[1;33m)\u001b[0m\u001b[1;33m:\u001b[0m\u001b[1;33m\u001b[0m\u001b[1;33m\u001b[0m\u001b[0m\n\u001b[1;32m----> 2\u001b[1;33m     \u001b[0mprint\u001b[0m\u001b[1;33m(\u001b[0m\u001b[0mmin\u001b[0m\u001b[1;33m(\u001b[0m\u001b[0mmin\u001b[0m\u001b[1;33m(\u001b[0m\u001b[1;36m5\u001b[0m\u001b[1;33m,\u001b[0m\u001b[1;36m6\u001b[0m\u001b[1;33m)\u001b[0m\u001b[1;33m,\u001b[0m\u001b[1;33m(\u001b[0m\u001b[1;36m51\u001b[0m\u001b[1;33m,\u001b[0m\u001b[1;36m6\u001b[0m\u001b[1;33m)\u001b[0m\u001b[1;33m)\u001b[0m\u001b[1;33m)\u001b[0m\u001b[1;33m\u001b[0m\u001b[1;33m\u001b[0m\u001b[0m\n\u001b[0m\u001b[0;32m      3\u001b[0m \u001b[1;32mdef\u001b[0m \u001b[0mmin\u001b[0m\u001b[1;33m(\u001b[0m\u001b[0mn1\u001b[0m\u001b[1;33m,\u001b[0m\u001b[0mn2\u001b[0m\u001b[1;33m)\u001b[0m\u001b[1;33m:\u001b[0m\u001b[1;33m\u001b[0m\u001b[1;33m\u001b[0m\u001b[0m\n\u001b[0;32m      4\u001b[0m     \u001b[0msmallest\u001b[0m \u001b[1;33m=\u001b[0m \u001b[0mn1\u001b[0m\u001b[1;33m\u001b[0m\u001b[1;33m\u001b[0m\u001b[0m\n\u001b[0;32m      5\u001b[0m     \u001b[1;32mif\u001b[0m \u001b[0mn2\u001b[0m \u001b[1;33m<\u001b[0m \u001b[0msmallest\u001b[0m\u001b[1;33m:\u001b[0m\u001b[1;33m\u001b[0m\u001b[1;33m\u001b[0m\u001b[0m\n",
      "\u001b[1;32m<ipython-input-27-eb2e9e9a975b>\u001b[0m in \u001b[0;36mmin\u001b[1;34m(n1, n2)\u001b[0m\n\u001b[0;32m      3\u001b[0m \u001b[1;32mdef\u001b[0m \u001b[0mmin\u001b[0m\u001b[1;33m(\u001b[0m\u001b[0mn1\u001b[0m\u001b[1;33m,\u001b[0m\u001b[0mn2\u001b[0m\u001b[1;33m)\u001b[0m\u001b[1;33m:\u001b[0m\u001b[1;33m\u001b[0m\u001b[1;33m\u001b[0m\u001b[0m\n\u001b[0;32m      4\u001b[0m     \u001b[0msmallest\u001b[0m \u001b[1;33m=\u001b[0m \u001b[0mn1\u001b[0m\u001b[1;33m\u001b[0m\u001b[1;33m\u001b[0m\u001b[0m\n\u001b[1;32m----> 5\u001b[1;33m     \u001b[1;32mif\u001b[0m \u001b[0mn2\u001b[0m \u001b[1;33m<\u001b[0m \u001b[0msmallest\u001b[0m\u001b[1;33m:\u001b[0m\u001b[1;33m\u001b[0m\u001b[1;33m\u001b[0m\u001b[0m\n\u001b[0m\u001b[0;32m      6\u001b[0m         \u001b[0msmallest\u001b[0m \u001b[1;33m=\u001b[0m \u001b[0mn2\u001b[0m\u001b[1;33m\u001b[0m\u001b[1;33m\u001b[0m\u001b[0m\n",
      "\u001b[1;31mTypeError\u001b[0m: '<' not supported between instances of 'tuple' and 'NoneType'"
     ]
    }
   ],
   "source": [
    "main()"
   ]
  },
  {
   "cell_type": "code",
   "execution_count": null,
   "metadata": {},
   "outputs": [],
   "source": []
  },
  {
   "cell_type": "markdown",
   "metadata": {},
   "source": [
    "## 类型和关键字参数\n",
    "- 普通参数\n",
    "- 多个参数\n",
    "- 默认值参数\n",
    "- 不定长参数"
   ]
  },
  {
   "cell_type": "markdown",
   "metadata": {},
   "source": [
    "## 普通参数"
   ]
  },
  {
   "cell_type": "markdown",
   "metadata": {},
   "source": [
    "## 多个参数"
   ]
  },
  {
   "cell_type": "markdown",
   "metadata": {},
   "source": [
    "## 默认值参数"
   ]
  },
  {
   "cell_type": "markdown",
   "metadata": {},
   "source": [
    "## 强制命名"
   ]
  },
  {
   "cell_type": "code",
   "execution_count": 29,
   "metadata": {},
   "outputs": [],
   "source": [
    "def feizhuliu(*,name):\n",
    "    print(\"hai\",name)"
   ]
  },
  {
   "cell_type": "code",
   "execution_count": 30,
   "metadata": {},
   "outputs": [
    {
     "name": "stdout",
     "output_type": "stream",
     "text": [
      "hai mxt\n"
     ]
    }
   ],
   "source": [
    "#每个参数都需要使用默认名，用*\n",
    "feizhuliu(name = \"mxt\")"
   ]
  },
  {
   "cell_type": "markdown",
   "metadata": {},
   "source": [
    "## 不定长参数\n",
    "- \\*args\n",
    "> - 不定长，来多少装多少，不装也是可以的\n",
    "  - 返回的数据类型是元组\n",
    "  - args 名字是可以修改的，只是我们约定俗成的是args\n",
    "- \\**kwargs \n",
    "> - 返回的字典\n",
    "  - 输入的一定要是表达式（键值对）\n",
    "- name,\\*args,name2,\\**kwargs  使用参数名"
   ]
  },
  {
   "cell_type": "code",
   "execution_count": 34,
   "metadata": {},
   "outputs": [],
   "source": [
    "#不定长比较大小\n",
    "#最小值是res\n",
    "def max(*args):\n",
    "    res = 0\n",
    "    for i in args:\n",
    "        if i > res:\n",
    "            res = i\n",
    "    return res"
   ]
  },
  {
   "cell_type": "code",
   "execution_count": 35,
   "metadata": {},
   "outputs": [
    {
     "data": {
      "text/plain": [
       "8"
      ]
     },
     "execution_count": 35,
     "metadata": {},
     "output_type": "execute_result"
    }
   ],
   "source": [
    "max(4,5,7,8,2,1,4)"
   ]
  },
  {
   "cell_type": "code",
   "execution_count": 36,
   "metadata": {},
   "outputs": [],
   "source": [
    "#不定长求和，用sum\n",
    "def sum(*args):\n",
    "    res = 0\n",
    "    for i in args:\n",
    "        res += i\n",
    "    return res"
   ]
  },
  {
   "cell_type": "code",
   "execution_count": 37,
   "metadata": {},
   "outputs": [
    {
     "data": {
      "text/plain": [
       "3"
      ]
     },
     "execution_count": 37,
     "metadata": {},
     "output_type": "execute_result"
    }
   ],
   "source": [
    "sum(1,2)"
   ]
  },
  {
   "cell_type": "code",
   "execution_count": 38,
   "metadata": {},
   "outputs": [],
   "source": [
    "def sum(*args):\n",
    "    res = 0\n",
    "    count = 1\n",
    "    for i in args:\n",
    "        res += i\n",
    "        count += i\n",
    "    mean = res / (count - 1)\n",
    "    return res,mean"
   ]
  },
  {
   "cell_type": "code",
   "execution_count": 42,
   "metadata": {},
   "outputs": [
    {
     "ename": "TypeError",
     "evalue": "'int' object is not callable",
     "output_type": "error",
     "traceback": [
      "\u001b[1;31m---------------------------------------------------------------------------\u001b[0m",
      "\u001b[1;31mTypeError\u001b[0m                                 Traceback (most recent call last)",
      "\u001b[1;32m<ipython-input-42-eede4f144b41>\u001b[0m in \u001b[0;36m<module>\u001b[1;34m\u001b[0m\n\u001b[1;32m----> 1\u001b[1;33m \u001b[0msum\u001b[0m\u001b[1;33m,\u001b[0m\u001b[0mmean\u001b[0m \u001b[1;33m=\u001b[0m \u001b[0msum\u001b[0m\u001b[1;33m(\u001b[0m\u001b[1;36m1\u001b[0m\u001b[1;33m)\u001b[0m\u001b[1;33m\u001b[0m\u001b[1;33m\u001b[0m\u001b[0m\n\u001b[0m",
      "\u001b[1;31mTypeError\u001b[0m: 'int' object is not callable"
     ]
    }
   ],
   "source": [
    "sum,mean = sum(1)"
   ]
  },
  {
   "cell_type": "code",
   "execution_count": 33,
   "metadata": {},
   "outputs": [
    {
     "name": "stdout",
     "output_type": "stream",
     "text": [
      "(6, 4, 5, 7, 8)\n",
      "6\n",
      "4\n",
      "5\n",
      "7\n",
      "8\n"
     ]
    }
   ],
   "source": [
    "max(6,4,5,7,8)"
   ]
  },
  {
   "cell_type": "code",
   "execution_count": null,
   "metadata": {},
   "outputs": [],
   "source": [
    "#字典"
   ]
  },
  {
   "cell_type": "markdown",
   "metadata": {},
   "source": [
    "## 变量的作用域\n",
    "- 局部变量 local\n",
    "- 全局变量 global\n",
    "- globals 函数返回一个全局变量的字典，包括所有导入的变量\n",
    "- locals() 函数会以字典类型返回当前位置的全部局部变量。"
   ]
  },
  {
   "cell_type": "code",
   "execution_count": 47,
   "metadata": {},
   "outputs": [
    {
     "data": {
      "text/plain": [
       "{'__name__': '__main__',\n",
       " '__doc__': 'Automatically created module for IPython interactive environment',\n",
       " '__package__': None,\n",
       " '__loader__': None,\n",
       " '__spec__': None,\n",
       " '__builtin__': <module 'builtins' (built-in)>,\n",
       " '__builtins__': <module 'builtins' (built-in)>,\n",
       " '_ih': ['',\n",
       "  'def mxt():\\n    print(\"maxuetig\")',\n",
       "  '#函数需要调用\\nmxt()',\n",
       "  'mxt',\n",
       "  'def mxt(name):\\n    print(name,\"beautiful\")',\n",
       "  'mxt(\"xt\")',\n",
       "  'def max(num1,num2):\\n    if num1 > num2:\\n        result = num1\\n    else:\\n        result = num2\\n    return result',\n",
       "  'max(1,2)',\n",
       "  'def panduan(number):\\n    if number % 2 = 0:\\n        print (number,\"偶\")\\n    else:\\n        print(number,\"奇\")',\n",
       "  'def panduan(number):\\n    if number % 2 == 0:\\n        print (number,\"偶\")\\n    else:\\n        print(number,\"奇\")',\n",
       "  'panduan(number = 6)',\n",
       "  'def mxt():\\n    print(\"maxuetig\")\\n    return 100',\n",
       "  'mxt()',\n",
       "  '#三个数字的\\ndef max(num1,num2,num3):\\n    if num1 > num2:\\n        result = num1\\n    elif:\\n        result = num2\\n    elif:\\n        result = num3\\n    return result',\n",
       "  '#三个数字比较大小\\ndef max(num1,num2,num3):\\n    if num1 > num2 and num1 > num3:\\n        result = num1\\n    if num2 > num3 and num2 > num1:\\n        result = num2\\n    else:\\n        result = num3\\n    return result',\n",
       "  'max(1,2,3,)',\n",
       "  'max(7,2,5)',\n",
       "  'def max(num1,num2,num3):\\n    if num1 >= num2:\\n        return num2\\n        if num3 >= num1:\\n            return = num2\\n        else:\\n            if num3 > num2:\\n                return num3\\n    else:\\n        return num1\\n        if num3 >= num2:\\n            return num1\\n        else:\\n            if num3 >= num1:\\n                return num1\\n            else:\\n                return num3\\n    return result',\n",
       "  'def max(num1,num2,num3):\\n    if num1 >= num2:\\n        return num2\\n        if num3 >= num1:\\n            return = num3\\n        else:\\n            if num3 > num2:\\n                return num3\\n    else:\\n        return num1\\n        if num3 >= num2:\\n            return num1\\n        else:\\n            if num3 >= num1:\\n                return num1\\n            else:\\n                return num3\\n    return result',\n",
       "  'def max(num1,num2,num3):\\n    if num1 >= num2:\\n        return num2\\n        if num3 >= num1:\\n            return == num3\\n        else:\\n            if num3 > num2:\\n                return num3\\n    else:\\n        return num1\\n        if num3 >= num2:\\n            return num1\\n        else:\\n            if num3 >= num1:\\n                return num1\\n            else:\\n                return num3\\n    return result',\n",
       "  'def max(num1,num2,num3):\\n    if num1 >= num2:\\n        return num2\\n        if num3 >= num1:\\n            return  num3\\n        else:\\n            if num3 > num2:\\n                return num3\\n    else:\\n        return num1\\n        if num3 >= num2:\\n            return num1\\n        else:\\n            if num3 >= num1:\\n                return num1\\n            else:\\n                return num3\\n    return result',\n",
       "  'max(7,8,6)',\n",
       "  'max(7,8,6)',\n",
       "  'max(8,7,6)',\n",
       "  '#三个数字比较大小\\ndef max(num1,num2,num3):\\n    if num1 > num2 and num1 > num3:\\n        result = num1\\n    elif num2 > num3 and num2 > num1:\\n        result = num2\\n    elif:\\n        num3 > num1 and num3 > num2\\n    return result',\n",
       "  'import random',\n",
       "  '#作业：递归调用汉诺塔函数',\n",
       "  'def main():\\n    print(min(min(5,6),(51,6)))\\ndef min(n1,n2):\\n    smallest = n1\\n    if n2 < smallest:\\n        smallest = n2',\n",
       "  'main()',\n",
       "  'def feizhuliu(*,name):\\n    print(\"hai\",name)',\n",
       "  'feizhuliu(name = \"mxt\")',\n",
       "  '#不定长比较大小\\ndef max(*args):\\n    print(args)\\n    for i in args:\\n        print(i)',\n",
       "  'max(1,4,5,7,8)',\n",
       "  'max(6,4,5,7,8)',\n",
       "  '#不定长比较大小\\n#最小值是res\\ndef max(*args):\\n    res = 0\\n    for i in args:\\n        if i > res:\\n            res = i\\n    return res',\n",
       "  'max(4,5,7,8,2,1,4)',\n",
       "  '#不定长求和，用sum\\ndef sum(*args):\\n    res = 0\\n    for i in args:\\n        res += i\\n    return res',\n",
       "  'sum(1,2)',\n",
       "  'def sum(*args):\\n    res = 0\\n    count = 1\\n    for i in args:\\n        res += i\\n        count += i\\n    mean = res / (count - 1)\\n    return res,mean',\n",
       "  'sum,mean = sum(1)',\n",
       "  'sum,mean = sum(1,5,4)',\n",
       "  'sum,mean = sum(5)',\n",
       "  'sum,mean = sum(1)',\n",
       "  'R = 1000\\ndef RR():\\n    print(R)',\n",
       "  'RR()',\n",
       "  'R = 1000\\n\\n\\ndef RR():\\n    global R\\n    R += 100\\n    print(R)',\n",
       "  'RR()',\n",
       "  'globals()'],\n",
       " '_oh': {3: <function __main__.mxt()>,\n",
       "  7: 2,\n",
       "  12: 100,\n",
       "  15: 3,\n",
       "  16: 5,\n",
       "  21: 7,\n",
       "  22: 7,\n",
       "  23: 7,\n",
       "  35: 8,\n",
       "  37: 3},\n",
       " '_dh': ['C:\\\\Users\\\\ASUS\\\\Desktop\\\\python\\\\python基础'],\n",
       " 'In': ['',\n",
       "  'def mxt():\\n    print(\"maxuetig\")',\n",
       "  '#函数需要调用\\nmxt()',\n",
       "  'mxt',\n",
       "  'def mxt(name):\\n    print(name,\"beautiful\")',\n",
       "  'mxt(\"xt\")',\n",
       "  'def max(num1,num2):\\n    if num1 > num2:\\n        result = num1\\n    else:\\n        result = num2\\n    return result',\n",
       "  'max(1,2)',\n",
       "  'def panduan(number):\\n    if number % 2 = 0:\\n        print (number,\"偶\")\\n    else:\\n        print(number,\"奇\")',\n",
       "  'def panduan(number):\\n    if number % 2 == 0:\\n        print (number,\"偶\")\\n    else:\\n        print(number,\"奇\")',\n",
       "  'panduan(number = 6)',\n",
       "  'def mxt():\\n    print(\"maxuetig\")\\n    return 100',\n",
       "  'mxt()',\n",
       "  '#三个数字的\\ndef max(num1,num2,num3):\\n    if num1 > num2:\\n        result = num1\\n    elif:\\n        result = num2\\n    elif:\\n        result = num3\\n    return result',\n",
       "  '#三个数字比较大小\\ndef max(num1,num2,num3):\\n    if num1 > num2 and num1 > num3:\\n        result = num1\\n    if num2 > num3 and num2 > num1:\\n        result = num2\\n    else:\\n        result = num3\\n    return result',\n",
       "  'max(1,2,3,)',\n",
       "  'max(7,2,5)',\n",
       "  'def max(num1,num2,num3):\\n    if num1 >= num2:\\n        return num2\\n        if num3 >= num1:\\n            return = num2\\n        else:\\n            if num3 > num2:\\n                return num3\\n    else:\\n        return num1\\n        if num3 >= num2:\\n            return num1\\n        else:\\n            if num3 >= num1:\\n                return num1\\n            else:\\n                return num3\\n    return result',\n",
       "  'def max(num1,num2,num3):\\n    if num1 >= num2:\\n        return num2\\n        if num3 >= num1:\\n            return = num3\\n        else:\\n            if num3 > num2:\\n                return num3\\n    else:\\n        return num1\\n        if num3 >= num2:\\n            return num1\\n        else:\\n            if num3 >= num1:\\n                return num1\\n            else:\\n                return num3\\n    return result',\n",
       "  'def max(num1,num2,num3):\\n    if num1 >= num2:\\n        return num2\\n        if num3 >= num1:\\n            return == num3\\n        else:\\n            if num3 > num2:\\n                return num3\\n    else:\\n        return num1\\n        if num3 >= num2:\\n            return num1\\n        else:\\n            if num3 >= num1:\\n                return num1\\n            else:\\n                return num3\\n    return result',\n",
       "  'def max(num1,num2,num3):\\n    if num1 >= num2:\\n        return num2\\n        if num3 >= num1:\\n            return  num3\\n        else:\\n            if num3 > num2:\\n                return num3\\n    else:\\n        return num1\\n        if num3 >= num2:\\n            return num1\\n        else:\\n            if num3 >= num1:\\n                return num1\\n            else:\\n                return num3\\n    return result',\n",
       "  'max(7,8,6)',\n",
       "  'max(7,8,6)',\n",
       "  'max(8,7,6)',\n",
       "  '#三个数字比较大小\\ndef max(num1,num2,num3):\\n    if num1 > num2 and num1 > num3:\\n        result = num1\\n    elif num2 > num3 and num2 > num1:\\n        result = num2\\n    elif:\\n        num3 > num1 and num3 > num2\\n    return result',\n",
       "  'import random',\n",
       "  '#作业：递归调用汉诺塔函数',\n",
       "  'def main():\\n    print(min(min(5,6),(51,6)))\\ndef min(n1,n2):\\n    smallest = n1\\n    if n2 < smallest:\\n        smallest = n2',\n",
       "  'main()',\n",
       "  'def feizhuliu(*,name):\\n    print(\"hai\",name)',\n",
       "  'feizhuliu(name = \"mxt\")',\n",
       "  '#不定长比较大小\\ndef max(*args):\\n    print(args)\\n    for i in args:\\n        print(i)',\n",
       "  'max(1,4,5,7,8)',\n",
       "  'max(6,4,5,7,8)',\n",
       "  '#不定长比较大小\\n#最小值是res\\ndef max(*args):\\n    res = 0\\n    for i in args:\\n        if i > res:\\n            res = i\\n    return res',\n",
       "  'max(4,5,7,8,2,1,4)',\n",
       "  '#不定长求和，用sum\\ndef sum(*args):\\n    res = 0\\n    for i in args:\\n        res += i\\n    return res',\n",
       "  'sum(1,2)',\n",
       "  'def sum(*args):\\n    res = 0\\n    count = 1\\n    for i in args:\\n        res += i\\n        count += i\\n    mean = res / (count - 1)\\n    return res,mean',\n",
       "  'sum,mean = sum(1)',\n",
       "  'sum,mean = sum(1,5,4)',\n",
       "  'sum,mean = sum(5)',\n",
       "  'sum,mean = sum(1)',\n",
       "  'R = 1000\\ndef RR():\\n    print(R)',\n",
       "  'RR()',\n",
       "  'R = 1000\\n\\n\\ndef RR():\\n    global R\\n    R += 100\\n    print(R)',\n",
       "  'RR()',\n",
       "  'globals()'],\n",
       " 'Out': {3: <function __main__.mxt()>,\n",
       "  7: 2,\n",
       "  12: 100,\n",
       "  15: 3,\n",
       "  16: 5,\n",
       "  21: 7,\n",
       "  22: 7,\n",
       "  23: 7,\n",
       "  35: 8,\n",
       "  37: 3},\n",
       " 'get_ipython': <bound method InteractiveShell.get_ipython of <ipykernel.zmqshell.ZMQInteractiveShell object at 0x00000219F42A95F8>>,\n",
       " 'exit': <IPython.core.autocall.ZMQExitAutocall at 0x219f4306ba8>,\n",
       " 'quit': <IPython.core.autocall.ZMQExitAutocall at 0x219f4306ba8>,\n",
       " '_': 3,\n",
       " '__': 8,\n",
       " '___': 7,\n",
       " '_i': 'RR()',\n",
       " '_ii': 'R = 1000\\n\\n\\ndef RR():\\n    global R\\n    R += 100\\n    print(R)',\n",
       " '_iii': 'RR()',\n",
       " '_i1': 'def mxt():\\n    print(\"maxuetig\")',\n",
       " 'mxt': <function __main__.mxt()>,\n",
       " '_i2': '#函数需要调用\\nmxt()',\n",
       " '_i3': 'mxt',\n",
       " '_3': <function __main__.mxt()>,\n",
       " '_i4': 'def mxt(name):\\n    print(name,\"beautiful\")',\n",
       " '_i5': 'mxt(\"xt\")',\n",
       " '_i6': 'def max(num1,num2):\\n    if num1 > num2:\\n        result = num1\\n    else:\\n        result = num2\\n    return result',\n",
       " 'max': <function __main__.max(*args)>,\n",
       " '_i7': 'max(1,2)',\n",
       " '_7': 2,\n",
       " '_i8': 'def panduan(number):\\n    if number % 2 = 0:\\n        print (number,\"偶\")\\n    else:\\n        print(number,\"奇\")',\n",
       " '_i9': 'def panduan(number):\\n    if number % 2 == 0:\\n        print (number,\"偶\")\\n    else:\\n        print(number,\"奇\")',\n",
       " 'panduan': <function __main__.panduan(number)>,\n",
       " '_i10': 'panduan(number = 6)',\n",
       " '_i11': 'def mxt():\\n    print(\"maxuetig\")\\n    return 100',\n",
       " '_i12': 'mxt()',\n",
       " '_12': 100,\n",
       " '_i13': '#三个数字的\\ndef max(num1,num2,num3):\\n    if num1 > num2:\\n        result = num1\\n    elif:\\n        result = num2\\n    elif:\\n        result = num3\\n    return result',\n",
       " '_i14': '#三个数字比较大小\\ndef max(num1,num2,num3):\\n    if num1 > num2 and num1 > num3:\\n        result = num1\\n    if num2 > num3 and num2 > num1:\\n        result = num2\\n    else:\\n        result = num3\\n    return result',\n",
       " '_i15': 'max(1,2,3,)',\n",
       " '_15': 3,\n",
       " '_i16': 'max(7,2,5)',\n",
       " '_16': 5,\n",
       " '_i17': 'def max(num1,num2,num3):\\n    if num1 >= num2:\\n        return num2\\n        if num3 >= num1:\\n            return = num2\\n        else:\\n            if num3 > num2:\\n                return num3\\n    else:\\n        return num1\\n        if num3 >= num2:\\n            return num1\\n        else:\\n            if num3 >= num1:\\n                return num1\\n            else:\\n                return num3\\n    return result',\n",
       " '_i18': 'def max(num1,num2,num3):\\n    if num1 >= num2:\\n        return num2\\n        if num3 >= num1:\\n            return = num3\\n        else:\\n            if num3 > num2:\\n                return num3\\n    else:\\n        return num1\\n        if num3 >= num2:\\n            return num1\\n        else:\\n            if num3 >= num1:\\n                return num1\\n            else:\\n                return num3\\n    return result',\n",
       " '_i19': 'def max(num1,num2,num3):\\n    if num1 >= num2:\\n        return num2\\n        if num3 >= num1:\\n            return == num3\\n        else:\\n            if num3 > num2:\\n                return num3\\n    else:\\n        return num1\\n        if num3 >= num2:\\n            return num1\\n        else:\\n            if num3 >= num1:\\n                return num1\\n            else:\\n                return num3\\n    return result',\n",
       " '_i20': 'def max(num1,num2,num3):\\n    if num1 >= num2:\\n        return num2\\n        if num3 >= num1:\\n            return  num3\\n        else:\\n            if num3 > num2:\\n                return num3\\n    else:\\n        return num1\\n        if num3 >= num2:\\n            return num1\\n        else:\\n            if num3 >= num1:\\n                return num1\\n            else:\\n                return num3\\n    return result',\n",
       " '_i21': 'max(7,8,6)',\n",
       " '_21': 7,\n",
       " '_i22': 'max(7,8,6)',\n",
       " '_22': 7,\n",
       " '_i23': 'max(8,7,6)',\n",
       " '_23': 7,\n",
       " '_i24': '#三个数字比较大小\\ndef max(num1,num2,num3):\\n    if num1 > num2 and num1 > num3:\\n        result = num1\\n    elif num2 > num3 and num2 > num1:\\n        result = num2\\n    elif:\\n        num3 > num1 and num3 > num2\\n    return result',\n",
       " '_i25': 'import random',\n",
       " 'random': <module 'random' from 'D:\\\\anaconda\\\\python\\\\lib\\\\random.py'>,\n",
       " '_i26': '#作业：递归调用汉诺塔函数',\n",
       " '_i27': 'def main():\\n    print(min(min(5,6),(51,6)))\\ndef min(n1,n2):\\n    smallest = n1\\n    if n2 < smallest:\\n        smallest = n2',\n",
       " 'main': <function __main__.main()>,\n",
       " 'min': <function __main__.min(n1, n2)>,\n",
       " '_i28': 'main()',\n",
       " '_i29': 'def feizhuliu(*,name):\\n    print(\"hai\",name)',\n",
       " 'feizhuliu': <function __main__.feizhuliu(*, name)>,\n",
       " '_i30': 'feizhuliu(name = \"mxt\")',\n",
       " '_i31': '#不定长比较大小\\ndef max(*args):\\n    print(args)\\n    for i in args:\\n        print(i)',\n",
       " '_i32': 'max(1,4,5,7,8)',\n",
       " '_i33': 'max(6,4,5,7,8)',\n",
       " '_i34': '#不定长比较大小\\n#最小值是res\\ndef max(*args):\\n    res = 0\\n    for i in args:\\n        if i > res:\\n            res = i\\n    return res',\n",
       " '_i35': 'max(4,5,7,8,2,1,4)',\n",
       " '_35': 8,\n",
       " '_i36': '#不定长求和，用sum\\ndef sum(*args):\\n    res = 0\\n    for i in args:\\n        res += i\\n    return res',\n",
       " 'sum': 1,\n",
       " '_i37': 'sum(1,2)',\n",
       " '_37': 3,\n",
       " '_i38': 'def sum(*args):\\n    res = 0\\n    count = 1\\n    for i in args:\\n        res += i\\n        count += i\\n    mean = res / (count - 1)\\n    return res,mean',\n",
       " '_i39': 'sum,mean = sum(1)',\n",
       " 'mean': 1.0,\n",
       " '_i40': 'sum,mean = sum(1,5,4)',\n",
       " '_i41': 'sum,mean = sum(5)',\n",
       " '_i42': 'sum,mean = sum(1)',\n",
       " '_i43': 'R = 1000\\ndef RR():\\n    print(R)',\n",
       " 'R': 1100,\n",
       " 'RR': <function __main__.RR()>,\n",
       " '_i44': 'RR()',\n",
       " '_i45': 'R = 1000\\n\\n\\ndef RR():\\n    global R\\n    R += 100\\n    print(R)',\n",
       " '_i46': 'RR()',\n",
       " '_i47': 'globals()'}"
      ]
     },
     "execution_count": 47,
     "metadata": {},
     "output_type": "execute_result"
    }
   ],
   "source": [
    "#只要引用外面的变量就用global，用逗号分隔\n",
    "globals()"
   ]
  },
  {
   "cell_type": "code",
   "execution_count": 48,
   "metadata": {},
   "outputs": [
    {
     "data": {
      "text/plain": [
       "<function locals()>"
      ]
     },
     "execution_count": 48,
     "metadata": {},
     "output_type": "execute_result"
    }
   ],
   "source": [
    "locals"
   ]
  },
  {
   "cell_type": "code",
   "execution_count": 43,
   "metadata": {},
   "outputs": [],
   "source": [
    "R = 1000\n",
    "def RR():\n",
    "    print(R)"
   ]
  },
  {
   "cell_type": "code",
   "execution_count": 44,
   "metadata": {},
   "outputs": [
    {
     "name": "stdout",
     "output_type": "stream",
     "text": [
      "1000\n"
     ]
    }
   ],
   "source": [
    "RR()"
   ]
  },
  {
   "cell_type": "code",
   "execution_count": 45,
   "metadata": {},
   "outputs": [],
   "source": [
    "#R是全局变量\n",
    "R = 1000\n",
    "\n",
    "\n",
    "def RR():\n",
    "    global R\n",
    "    R += 100\n",
    "    print(R)"
   ]
  },
  {
   "cell_type": "code",
   "execution_count": 46,
   "metadata": {},
   "outputs": [
    {
     "name": "stdout",
     "output_type": "stream",
     "text": [
      "1100\n"
     ]
    }
   ],
   "source": [
    "RR()"
   ]
  },
  {
   "cell_type": "code",
   "execution_count": 52,
   "metadata": {},
   "outputs": [],
   "source": [
    "#求5 = a + aa + aaa + a......a的值，其中a是一个数字。例如2 + 22 + 222 + 2222 + 22222（此时共有5个数相加）\n",
    "def A():\n",
    "    num = input(\"输入一个数字\")\n",
    "    N = input(\"你想要循环几次\")\n",
    "    res = 0\n",
    "    for i in range(1,int(N) + 1):\n",
    "        print(num * i)\n",
    "        res += int(num * i)\n",
    "    return res"
   ]
  },
  {
   "cell_type": "code",
   "execution_count": 53,
   "metadata": {},
   "outputs": [
    {
     "name": "stdout",
     "output_type": "stream",
     "text": [
      "输入一个数字9\n",
      "你想要循环几次3\n",
      "9\n",
      "99\n",
      "999\n"
     ]
    },
    {
     "data": {
      "text/plain": [
       "1107"
      ]
     },
     "execution_count": 53,
     "metadata": {},
     "output_type": "execute_result"
    }
   ],
   "source": [
    "A()"
   ]
  },
  {
   "cell_type": "code",
   "execution_count": 54,
   "metadata": {},
   "outputs": [
    {
     "ename": "SyntaxError",
     "evalue": "Missing parentheses in call to 'print'. Did you mean print(res)? (<ipython-input-54-2bea9085e49f>, line 7)",
     "output_type": "error",
     "traceback": [
      "\u001b[1;36m  File \u001b[1;32m\"<ipython-input-54-2bea9085e49f>\"\u001b[1;36m, line \u001b[1;32m7\u001b[0m\n\u001b[1;33m    print res\u001b[0m\n\u001b[1;37m            ^\u001b[0m\n\u001b[1;31mSyntaxError\u001b[0m\u001b[1;31m:\u001b[0m Missing parentheses in call to 'print'. Did you mean print(res)?\n"
     ]
    }
   ],
   "source": [
    "#求5 = a + aa + aaa + a......a的值，其中a是一个数字。例如2 + 22 + 222 + 2222 + 22222（此时共有5个数相加）\n",
    "#第二种办法（难点）(没给全)\n",
    "res = 0\n",
    "for i in range(2):\n",
    "    for j in range(i + 1):\n",
    "        res += 2 * 10 ** j\n",
    "print res"
   ]
  },
  {
   "cell_type": "code",
   "execution_count": 56,
   "metadata": {},
   "outputs": [
    {
     "name": "stdout",
     "output_type": "stream",
     "text": [
      "请输入：5\n",
      "    * \n",
      "   * * \n",
      "  * * * \n",
      " * * * * \n",
      "* * * * * \n",
      " * * * * \n",
      "  * * * \n",
      "   * * \n",
      "    * \n"
     ]
    }
   ],
   "source": [
    "#画菱形\n",
    "n = int(input('请输入：'))\n",
    "i = 1\n",
    "while i <= n:\n",
    "    print((n-i)*' '+'* '*i)\n",
    "    i += 1\n",
    "    while n < i < 2*n:\n",
    "        print((i-n)*' '+'* '*(i-2*(i-n)))\n",
    "        i += 1"
   ]
  },
  {
   "cell_type": "code",
   "execution_count": 57,
   "metadata": {},
   "outputs": [],
   "source": [
    "#阶乘求和(baidu)\n",
    "def main():\n",
    "    a = input()\n",
    "    sum = 0\n",
    "    if a.isdigit():\n",
    "        n = eval(a)\n",
    "        if n > 0:\n",
    "            fact = 1\n",
    "            for i in range(1, n+1):\n",
    "                fact *= i\n",
    "                sum += fact\n",
    "            print(sum)\n",
    "        else:\n",
    "            print(\"输入有误，请输入正整数\")\n",
    "    else:\n",
    "        print(\"输入有误，请输入正整数\")"
   ]
  },
  {
   "cell_type": "code",
   "execution_count": 58,
   "metadata": {},
   "outputs": [
    {
     "name": "stdout",
     "output_type": "stream",
     "text": [
      "7\n",
      "5913\n"
     ]
    }
   ],
   "source": [
    "main()"
   ]
  },
  {
   "cell_type": "code",
   "execution_count": 59,
   "metadata": {},
   "outputs": [
    {
     "name": "stdout",
     "output_type": "stream",
     "text": [
      "1\n",
      "2\n",
      "6\n",
      "24\n",
      "120\n",
      "720\n",
      "5040\n",
      "40320\n",
      "362880\n",
      "3628800\n",
      "39916800\n",
      "479001600\n",
      "6227020800\n",
      "87178291200\n",
      "1307674368000\n",
      "20922789888000\n",
      "355687428096000\n",
      "6402373705728000\n",
      "121645100408832000\n",
      "2432902008176640000\n"
     ]
    }
   ],
   "source": [
    "#阶乘求和\n",
    "for i in range(1,21):\n",
    "    rres = 1\n",
    "    for j in range(1,1 + i):\n",
    "        rres *= j\n",
    "    print(rres)"
   ]
  },
  {
   "cell_type": "code",
   "execution_count": 61,
   "metadata": {},
   "outputs": [
    {
     "name": "stdout",
     "output_type": "stream",
     "text": [
      "299.70703125\n",
      "0.09765625\n"
     ]
    }
   ],
   "source": [
    "#高空抛物\n",
    "#一球从100米高度自由落下，每次落地反跳回高度的一办，再落下\n",
    "b = 100\n",
    "sum = 0\n",
    "for i in range(1,11):\n",
    "    sum = sum + b + b / 2\n",
    "    b = b / 2\n",
    "print(sum)\n",
    "print(b)"
   ]
  },
  {
   "cell_type": "code",
   "execution_count": null,
   "metadata": {},
   "outputs": [],
   "source": []
  },
  {
   "cell_type": "code",
   "execution_count": null,
   "metadata": {},
   "outputs": [],
   "source": []
  },
  {
   "cell_type": "code",
   "execution_count": null,
   "metadata": {},
   "outputs": [],
   "source": []
  },
  {
   "cell_type": "markdown",
   "metadata": {},
   "source": [
    "## 注意：\n",
    "- global ：在进行赋值操作的时候需要声明\n",
    "- 官方解释：This is because when you make an assignment to a variable in a scope, that variable becomes local to that scope and shadows any similarly named variable in the outer scope.\n",
    "- ![](../Photo/73.png)"
   ]
  },
  {
   "cell_type": "code",
   "execution_count": null,
   "metadata": {},
   "outputs": [],
   "source": [
    "#能不用就不用global"
   ]
  },
  {
   "cell_type": "code",
   "execution_count": null,
   "metadata": {},
   "outputs": [],
   "source": [
    "#编写一个函数，传入字符串，统计大写有几个，小写有几个(用ASCII)\n",
    "import sys\n",
    "def u(*kwargs):\n",
    "    if *kwargs in sys.ascii_letters:\n",
    "        return ascii_letters\n",
    "    elif *kwargs in sys.digits:\n",
    "        return digits\n",
    "       "
   ]
  },
  {
   "cell_type": "code",
   "execution_count": 49,
   "metadata": {},
   "outputs": [],
   "source": [
    "#编写一个函数，输入n为偶数时，调用函数求1/2+1/4+......+1/n，当输入n为奇数时，调用函数1/1+1/3+......+1/n\n",
    "#for i in range(从几开始到几，左开右闭+1使取到n，最后一个是步长)\n",
    "def SUM(n):\n",
    "    res = 0\n",
    "    if n % 2 == 0:\n",
    "        for i in range(2,n + 1,2):\n",
    "            res += 1 / i\n",
    "    else:\n",
    "        for j in range(1,n + 1,2):\n",
    "            res += 1 / j\n",
    "    return res"
   ]
  },
  {
   "cell_type": "code",
   "execution_count": 51,
   "metadata": {},
   "outputs": [
    {
     "data": {
      "text/plain": [
       "1.3333333333333333"
      ]
     },
     "execution_count": 51,
     "metadata": {},
     "output_type": "execute_result"
    }
   ],
   "source": [
    "SUM(3)"
   ]
  },
  {
   "cell_type": "code",
   "execution_count": null,
   "metadata": {},
   "outputs": [],
   "source": []
  },
  {
   "cell_type": "markdown",
   "metadata": {},
   "source": [
    "# Homework\n",
    "- 1\n",
    "![](../Photo/74.png)"
   ]
  },
  {
   "cell_type": "code",
   "execution_count": 6,
   "metadata": {},
   "outputs": [],
   "source": [
    "def getPentagonalNumber(n):\n",
    "    sum = 0\n",
    "    sum2 = 0\n",
    "    for i in range (1,101):\n",
    "        sum = 0\n",
    "        for j in range(1,i + 1):\n",
    "            sum = j * (3 * j - 1)/2\n",
    "        print (sum,end='  ')\n",
    "        sum2 = sum2 + 1\n",
    "        if sum2 % 10 == 0:\n",
    "            print()"
   ]
  },
  {
   "cell_type": "code",
   "execution_count": 7,
   "metadata": {},
   "outputs": [
    {
     "name": "stdout",
     "output_type": "stream",
     "text": [
      "1.0  5.0  12.0  22.0  35.0  51.0  70.0  92.0  117.0  145.0  \n",
      "176.0  210.0  247.0  287.0  330.0  376.0  425.0  477.0  532.0  590.0  \n",
      "651.0  715.0  782.0  852.0  925.0  1001.0  1080.0  1162.0  1247.0  1335.0  \n",
      "1426.0  1520.0  1617.0  1717.0  1820.0  1926.0  2035.0  2147.0  2262.0  2380.0  \n",
      "2501.0  2625.0  2752.0  2882.0  3015.0  3151.0  3290.0  3432.0  3577.0  3725.0  \n",
      "3876.0  4030.0  4187.0  4347.0  4510.0  4676.0  4845.0  5017.0  5192.0  5370.0  \n",
      "5551.0  5735.0  5922.0  6112.0  6305.0  6501.0  6700.0  6902.0  7107.0  7315.0  \n",
      "7526.0  7740.0  7957.0  8177.0  8400.0  8626.0  8855.0  9087.0  9322.0  9560.0  \n",
      "9801.0  10045.0  10292.0  10542.0  10795.0  11051.0  11310.0  11572.0  11837.0  12105.0  \n",
      "12376.0  12650.0  12927.0  13207.0  13490.0  13776.0  14065.0  14357.0  14652.0  14950.0  \n"
     ]
    }
   ],
   "source": [
    "getPentagonalNumber(10)"
   ]
  },
  {
   "cell_type": "markdown",
   "metadata": {},
   "source": [
    "- 2 \n",
    "![](../Photo/75.png)"
   ]
  },
  {
   "cell_type": "code",
   "execution_count": 8,
   "metadata": {},
   "outputs": [],
   "source": [
    "def sumDidits(n):\n",
    "    for i in range(1,10):\n",
    "        print(i)\n",
    "    for j in range(1,10):\n",
    "        print(j)\n",
    "    for k in range(1,10):\n",
    "        print(k)\n",
    "    print(i + j + k,\"i\" + \"j\" + \"k\")"
   ]
  },
  {
   "cell_type": "code",
   "execution_count": 9,
   "metadata": {
    "scrolled": true
   },
   "outputs": [
    {
     "name": "stdout",
     "output_type": "stream",
     "text": [
      "1\n",
      "2\n",
      "3\n",
      "4\n",
      "5\n",
      "6\n",
      "7\n",
      "8\n",
      "9\n",
      "1\n",
      "2\n",
      "3\n",
      "4\n",
      "5\n",
      "6\n",
      "7\n",
      "8\n",
      "9\n",
      "1\n",
      "2\n",
      "3\n",
      "4\n",
      "5\n",
      "6\n",
      "7\n",
      "8\n",
      "9\n",
      "27 ijk\n"
     ]
    }
   ],
   "source": [
    "sumDidits(234)"
   ]
  },
  {
   "cell_type": "markdown",
   "metadata": {},
   "source": [
    "- 3\n",
    "![](../Photo/76.png)"
   ]
  },
  {
   "cell_type": "code",
   "execution_count": 55,
   "metadata": {},
   "outputs": [],
   "source": [
    "def displayNumbers(num1,num2,num3):\n",
    "    if num1 < num2:\n",
    "        num1,num2 = num2,num1\n",
    "    if num2 < num3:\n",
    "        num2,num3 = num3,num2\n",
    "    if num1 < num2:\n",
    "        num1,num2 = num2,num1\n",
    "    return(num3,num2,num1)"
   ]
  },
  {
   "cell_type": "code",
   "execution_count": 56,
   "metadata": {},
   "outputs": [
    {
     "data": {
      "text/plain": [
       "(2.4, 3, 5)"
      ]
     },
     "execution_count": 56,
     "metadata": {},
     "output_type": "execute_result"
    }
   ],
   "source": [
    "displayNumbers(3,2.4,5)"
   ]
  },
  {
   "cell_type": "markdown",
   "metadata": {},
   "source": [
    "- 4\n",
    "![](../Photo/77.png)"
   ]
  },
  {
   "cell_type": "code",
   "execution_count": null,
   "metadata": {},
   "outputs": [],
   "source": [
    "def futureInvestmentValue(\n",
    "    investmentAmount,monthlyInterestRate,years):\n",
    "    "
   ]
  },
  {
   "cell_type": "code",
   "execution_count": null,
   "metadata": {},
   "outputs": [],
   "source": []
  },
  {
   "cell_type": "markdown",
   "metadata": {},
   "source": [
    "- 5\n",
    "![](../Photo/78.png)"
   ]
  },
  {
   "cell_type": "code",
   "execution_count": null,
   "metadata": {},
   "outputs": [],
   "source": [
    "def printChars(ch1,ch2,numberPerLine):\n",
    "    for i in range()"
   ]
  },
  {
   "cell_type": "markdown",
   "metadata": {},
   "source": [
    "- 6\n",
    "![](../Photo/79.png)"
   ]
  },
  {
   "cell_type": "code",
   "execution_count": 48,
   "metadata": {},
   "outputs": [],
   "source": [
    "def numberOfDaysInAYear(year):\n",
    "    for i in range(2010,2021):\n",
    "        if i % 4 == 0 and i % 100 != 0 or i % 400 == 0:\n",
    "            print(i,\"366天\")\n",
    "        else:\n",
    "            print(i,\"365天\")\n",
    "            "
   ]
  },
  {
   "cell_type": "code",
   "execution_count": 49,
   "metadata": {},
   "outputs": [
    {
     "name": "stdout",
     "output_type": "stream",
     "text": [
      "2010 365天\n",
      "2011 365天\n",
      "2012 366天\n",
      "2013 365天\n",
      "2014 365天\n",
      "2015 365天\n",
      "2016 366天\n",
      "2017 365天\n",
      "2018 365天\n",
      "2019 365天\n",
      "2020 366天\n"
     ]
    }
   ],
   "source": [
    "numberOfDaysInAYear(2020)"
   ]
  },
  {
   "cell_type": "markdown",
   "metadata": {},
   "source": [
    "- 7\n",
    "![](../Photo/80.png)"
   ]
  },
  {
   "cell_type": "code",
   "execution_count": 50,
   "metadata": {},
   "outputs": [],
   "source": [
    "def distance(x1,y1,x2,y2):\n",
    "    juli = ((x1 - x2) ** 2 + (y1 - y2) ** 2) ** 0.5\n",
    "    print(juli)"
   ]
  },
  {
   "cell_type": "code",
   "execution_count": 51,
   "metadata": {},
   "outputs": [
    {
     "name": "stdout",
     "output_type": "stream",
     "text": [
      "1.4142135623730951\n"
     ]
    }
   ],
   "source": [
    "distance(4,2,5,3)"
   ]
  },
  {
   "cell_type": "markdown",
   "metadata": {},
   "source": [
    "- 8\n",
    "![](../Photo/81.png)"
   ]
  },
  {
   "cell_type": "code",
   "execution_count": 42,
   "metadata": {},
   "outputs": [],
   "source": [
    "def sum(sushu):\n",
    "    i = 0\n",
    "    for p in range(1,32):\n",
    "        i = i + 1\n",
    "        if i == 2^(p - 1):\n",
    "            print(i)"
   ]
  },
  {
   "cell_type": "code",
   "execution_count": 43,
   "metadata": {},
   "outputs": [],
   "source": [
    "sum(31)"
   ]
  },
  {
   "cell_type": "markdown",
   "metadata": {},
   "source": [
    "- 9\n",
    "![](../Photo/82.png)\n",
    "![](../Photo/83.png)"
   ]
  },
  {
   "cell_type": "code",
   "execution_count": null,
   "metadata": {},
   "outputs": [],
   "source": []
  },
  {
   "cell_type": "markdown",
   "metadata": {},
   "source": [
    "- 10\n",
    "![](../Photo/84.png)"
   ]
  },
  {
   "cell_type": "code",
   "execution_count": 20,
   "metadata": {},
   "outputs": [],
   "source": [
    "import random\n",
    "\n",
    "x = random.randint(1, 7)\n",
    "y = random.randint(1, 7)\n",
    "\n",
    "s = x + y\n",
    "if (s == 2) or (s == 3) or (s == 12):\n",
    "    print(\"庄家胜!!!\")\n",
    "elif (s == 7) or (s == 11):\n",
    "    print(\"玩家胜!!!\")"
   ]
  },
  {
   "cell_type": "code",
   "execution_count": null,
   "metadata": {},
   "outputs": [],
   "source": []
  },
  {
   "cell_type": "markdown",
   "metadata": {},
   "source": [
    "- 11 \n",
    "### 去网上寻找如何用Python代码发送邮件"
   ]
  },
  {
   "cell_type": "code",
   "execution_count": 15,
   "metadata": {},
   "outputs": [],
   "source": [
    "from email.mime.text\n",
    "import MIMEText  \n",
    "from email.header\n",
    "import Header\n",
    "msg = MIMEText('我是邮件正文...', 'plain', 'utf-8') # plain 表示纯文本邮件  \n",
    "msg['From'] = \"这里是发件者邮箱\"\n",
    "msg['To'] = \"这里是收件者邮箱\"\n",
    "msg['Subject'] = Header(\"我是邮件的标题\", 'utf-8') #邮件标题\n"
   ]
  },
  {
   "cell_type": "code",
   "execution_count": null,
   "metadata": {},
   "outputs": [],
   "source": []
  }
 ],
 "metadata": {
  "kernelspec": {
   "display_name": "Python 3",
   "language": "python",
   "name": "python3"
  },
  "language_info": {
   "codemirror_mode": {
    "name": "ipython",
    "version": 3
   },
   "file_extension": ".py",
   "mimetype": "text/x-python",
   "name": "python",
   "nbconvert_exporter": "python",
   "pygments_lexer": "ipython3",
   "version": "3.7.3"
  }
 },
 "nbformat": 4,
 "nbformat_minor": 2
}
