{
 "cells": [
  {
   "cell_type": "markdown",
   "metadata": {},
   "source": [
    "# 对象和类\n",
    "- 一个学生，一张桌子，一个圆都是对象\n",
    "- 对象是类的一个实例，你可以创建多个对象，创建类的一个实例过程被称为实例化，\n",
    "- 在Python中对象就是实例，而实例就是对象"
   ]
  },
  {
   "cell_type": "markdown",
   "metadata": {},
   "source": [
    "## 定义类\n",
    "class ClassName:\n",
    "\n",
    "    do something\n",
    "    \n",
    "- class 类的表示与def 一样\n",
    "- 类名最好使用驼峰式\n",
    "- 在Python2中类是需要继承基类object的，在Python中默认继承，可写可不写\n",
    "- 可以将普通代码理解为皮肤，而函数可以理解为内衣，那么类可以理解为外套"
   ]
  },
  {
   "cell_type": "code",
   "execution_count": 103,
   "metadata": {},
   "outputs": [],
   "source": [
    "# 类必须初始化，是用self，初始化自身\n",
    "# 类里面所有的函数中的第一个变量不再是参数，而是一个印记\n",
    "class mxt:\n",
    "    def __init__(self):\n",
    "        print(\"我初始化了\")\n",
    "    def Print_(self,name,name2 = \"lll\"):\n",
    "        print(\"mxt lalal\",name,name2)"
   ]
  },
  {
   "cell_type": "code",
   "execution_count": 104,
   "metadata": {},
   "outputs": [
    {
     "name": "stdout",
     "output_type": "stream",
     "text": [
      "我初始化了\n"
     ]
    }
   ],
   "source": [
    "maxueting = mxt()# （）代表直接走初始化函数"
   ]
  },
  {
   "cell_type": "code",
   "execution_count": 105,
   "metadata": {},
   "outputs": [
    {
     "name": "stdout",
     "output_type": "stream",
     "text": [
      "mxt lalal aa lll\n"
     ]
    }
   ],
   "source": [
    "maxueting.Print_(name = \"aa\")"
   ]
  },
  {
   "cell_type": "code",
   "execution_count": 21,
   "metadata": {},
   "outputs": [],
   "source": [
    "# 在类中，如果有参数需要多次使用，那么就可以将其设置为共享参数\n",
    "class mxt:\n",
    "    def __init__(self,num1,num2):\n",
    "        print(\"我初始化了\")\n",
    "        #参数共享\n",
    "        self.num1 = num1\n",
    "        self.num2 = num2\n",
    "        print(self.num1,self.num2)\n",
    "    def sum(self,name):\n",
    "        print(name)\n",
    "        return self.num1 + self.num2\n",
    "    def cheng(self):\n",
    "        return self.num1 * self.num2"
   ]
  },
  {
   "cell_type": "code",
   "execution_count": 22,
   "metadata": {},
   "outputs": [
    {
     "name": "stdout",
     "output_type": "stream",
     "text": [
      "我初始化了\n",
      "1 2\n"
     ]
    }
   ],
   "source": [
    "maxueting = mxt(num1 = 1,num2 = 2)"
   ]
  },
  {
   "cell_type": "code",
   "execution_count": 23,
   "metadata": {},
   "outputs": [
    {
     "name": "stdout",
     "output_type": "stream",
     "text": [
      "lll\n"
     ]
    },
    {
     "data": {
      "text/plain": [
       "3"
      ]
     },
     "execution_count": 23,
     "metadata": {},
     "output_type": "execute_result"
    }
   ],
   "source": [
    "maxueting.sum(name = \"lll\")"
   ]
  },
  {
   "cell_type": "code",
   "execution_count": 49,
   "metadata": {},
   "outputs": [],
   "source": [
    "# 输入一个数判断奇偶，输入一个年份判断平年闰年\n",
    "class panduan:\n",
    "    def __init__(self):\n",
    "        print(\"我初始化了\")\n",
    "    def jiou(self,shu):\n",
    "        if shu % 2 == 0:\n",
    "            print(\"偶\")\n",
    "        else:\n",
    "            print(\"奇\")\n",
    "    def year(self,nianfen):\n",
    "        if nianfen % 4 == 0 and nianfen % 100 != 0 or nianfen % 400 == 0:\n",
    "            print(\"闰年\")\n",
    "        else:\n",
    "            print(\"平年\")"
   ]
  },
  {
   "cell_type": "code",
   "execution_count": 50,
   "metadata": {},
   "outputs": [
    {
     "name": "stdout",
     "output_type": "stream",
     "text": [
      "我初始化了\n"
     ]
    }
   ],
   "source": [
    "# 第一步，创建累的实例\n",
    "a = panduan()"
   ]
  },
  {
   "cell_type": "code",
   "execution_count": 51,
   "metadata": {},
   "outputs": [
    {
     "name": "stdout",
     "output_type": "stream",
     "text": [
      "偶\n"
     ]
    }
   ],
   "source": [
    "a.jiou(shu = 2)"
   ]
  },
  {
   "cell_type": "markdown",
   "metadata": {},
   "source": [
    "## 定义一个不含初始化__init__的简单类\n",
    "class ClassName:\n",
    "\n",
    "    joker = “Home”\n",
    "    \n",
    "    def func():\n",
    "        print('Worker')\n",
    "    \n",
    "- 尽量少使用"
   ]
  },
  {
   "cell_type": "markdown",
   "metadata": {},
   "source": [
    "\n",
    "\n",
    "## 定义一个标准类\n",
    "- __init__ 代表初始化，可以初始化任何动作\n",
    "- 此时类调用要使用()，其中（）可以理解为开始初始化\n",
    "- 初始化内的元素，类中其他的函数可以共享\n",
    "![](../Photo/85.png)"
   ]
  },
  {
   "cell_type": "markdown",
   "metadata": {},
   "source": [
    "- Circle 和 className_ 的第一个区别有 __init__ 这个函数\n",
    "- 。。。。   第二个区别，类中的每一个函数都有self的这个“参数”"
   ]
  },
  {
   "cell_type": "markdown",
   "metadata": {},
   "source": [
    "## 何为self？\n",
    "- self 是指向对象本身的参数\n",
    "- self 只是一个命名规则，其实可以改变的，但是我们约定俗成的是self，也便于理解\n",
    "- 使用了self就可以访问类中定义的成员\n",
    "<img src=\"../Photo/86.png\"></img>"
   ]
  },
  {
   "cell_type": "markdown",
   "metadata": {},
   "source": [
    "## 使用类 Cirlcle"
   ]
  },
  {
   "cell_type": "markdown",
   "metadata": {},
   "source": [
    "## 类的传参\n",
    "- class ClassName:\n",
    "    \n",
    "        def __init__(self, para1,para2...)：\n",
    "            \n",
    "            self.para1 = para1\n",
    "            \n",
    "            self.para2 = para2"
   ]
  },
  {
   "cell_type": "markdown",
   "metadata": {},
   "source": [
    "## EP:\n",
    "- A：定义一个类，类中含有两个功能：\n",
    "    - 1、产生3个随机数，获取最大值\n",
    "    - 2、产生3个随机数，获取最小值\n",
    "- B：定义一个类，（类中函数的嵌套使用）\n",
    "    - 1、第一个函数的功能为：输入一个数字\n",
    "    - 2、第二个函数的功能为：使用第一个函数中得到的数字进行平方处理\n",
    "    - 3、第三个函数的功能为：得到平方处理后的数字 - 原来输入的数字，并打印结果"
   ]
  },
  {
   "cell_type": "code",
   "execution_count": 79,
   "metadata": {},
   "outputs": [],
   "source": [
    "# 共享参数\n",
    "import random\n",
    "class mxt2:\n",
    "    def __init__(self):\n",
    "        pass\n",
    "    def func1(self):\n",
    "        self.num = eval(input(\">>\"))\n",
    "        print(\"输入的数字是：\",self.num)\n",
    "    def func2(self):\n",
    "        self.square = self.num ** 2\n",
    "        print(\"平方数是：\",self.square)\n",
    "    def func3(self):\n",
    "        self.cha = self.square - self.num\n",
    "        print(\"差是\",self.cha)"
   ]
  },
  {
   "cell_type": "code",
   "execution_count": 80,
   "metadata": {},
   "outputs": [],
   "source": [
    "a = mxt2()"
   ]
  },
  {
   "cell_type": "code",
   "execution_count": 81,
   "metadata": {},
   "outputs": [
    {
     "name": "stdout",
     "output_type": "stream",
     "text": [
      ">>2\n",
      "输入的数字是： 2\n"
     ]
    }
   ],
   "source": [
    "a.func1()"
   ]
  },
  {
   "cell_type": "code",
   "execution_count": 82,
   "metadata": {},
   "outputs": [
    {
     "name": "stdout",
     "output_type": "stream",
     "text": [
      "平方数是： 4\n"
     ]
    }
   ],
   "source": [
    "a.func2()"
   ]
  },
  {
   "cell_type": "code",
   "execution_count": 83,
   "metadata": {},
   "outputs": [
    {
     "name": "stdout",
     "output_type": "stream",
     "text": [
      "差是 2\n"
     ]
    }
   ],
   "source": [
    "a.func3()"
   ]
  },
  {
   "cell_type": "code",
   "execution_count": 124,
   "metadata": {},
   "outputs": [],
   "source": [
    "class mxt2:\n",
    "    def __init__(self):\n",
    "        self.account = \"123\"\n",
    "        self.password = \"123\"\n",
    "    def Account(self):\n",
    "        self.acc = input(\"请输入账号>>\")\n",
    "    def Password(self):\n",
    "        self.passwor = input(\"请输入密码:>>\")\n",
    "    def Check(self):\n",
    "        if self.acc == self.account and self.passwor == self.password:\n",
    "            print(\"Succes\")\n",
    "        else:\n",
    "            print(\"Failed\")\n",
    "    def Start(self):\n",
    "        self.Account()\n",
    "        self.Password()\n",
    "        self.Check()"
   ]
  },
  {
   "cell_type": "code",
   "execution_count": 126,
   "metadata": {},
   "outputs": [],
   "source": [
    "a = mxt2()"
   ]
  },
  {
   "cell_type": "code",
   "execution_count": 127,
   "metadata": {},
   "outputs": [
    {
     "name": "stdout",
     "output_type": "stream",
     "text": [
      "请输入账号>>123\n"
     ]
    }
   ],
   "source": [
    "a.Account()"
   ]
  },
  {
   "cell_type": "code",
   "execution_count": 129,
   "metadata": {},
   "outputs": [
    {
     "name": "stdout",
     "output_type": "stream",
     "text": [
      "请输入密码:>>123\n"
     ]
    }
   ],
   "source": [
    "a.Password()"
   ]
  },
  {
   "cell_type": "code",
   "execution_count": 130,
   "metadata": {},
   "outputs": [
    {
     "name": "stdout",
     "output_type": "stream",
     "text": [
      "Succes\n"
     ]
    }
   ],
   "source": [
    "a.Check()"
   ]
  },
  {
   "cell_type": "code",
   "execution_count": 131,
   "metadata": {},
   "outputs": [],
   "source": [
    "class mxt2:\n",
    "    def __init__(self):\n",
    "        self.account = \"123\"\n",
    "        self.password = \"123\"\n",
    "    def Account(self):\n",
    "        self.acc = input(\"请输入账号>>\")\n",
    "    def Password(self):\n",
    "        self.passwor = input(\"请输入密码:>>\")\n",
    "    def Check(self):\n",
    "        if self.acc == self.account and self.passwor == self.password:\n",
    "            print(\"Succes\")\n",
    "        else:\n",
    "            self.Verify()\n",
    "    def Verify(self):\n",
    "        Verify_Var = 123\n",
    "        print(\"验证码是\",Verify_Var)\n",
    "        while 1:\n",
    "            User_Verify = eval(input(\"请输入验证码:>>\"))\n",
    "            if User_Verify == Verify_Var:\n",
    "                print(\"Failed\")\n",
    "                break\n",
    "    def Start(self):\n",
    "        self.Account()\n",
    "        self.Password()\n",
    "        self.Check()"
   ]
  },
  {
   "cell_type": "code",
   "execution_count": 132,
   "metadata": {},
   "outputs": [],
   "source": [
    "a = mxt2()"
   ]
  },
  {
   "cell_type": "code",
   "execution_count": 134,
   "metadata": {},
   "outputs": [
    {
     "name": "stdout",
     "output_type": "stream",
     "text": [
      "请输入账号>>123\n",
      "请输入密码:>>123\n",
      "Succes\n"
     ]
    }
   ],
   "source": [
    "a.Start()"
   ]
  },
  {
   "cell_type": "code",
   "execution_count": 123,
   "metadata": {},
   "outputs": [],
   "source": [
    "class mxt:\n",
    "    \"\"\"\n",
    "    Implement Login Class.\n",
    "    \"\"\"\n",
    "    def __init__(self):\n",
    "        \"\"\"\n",
    "        Initialization class\n",
    "        Arguments:\n",
    "        ---------\n",
    "            name: xxx\n",
    "            None.\n",
    "        Returns:\n",
    "        --------\n",
    "            None.\n",
    "        \"\"\"\n",
    "        self.account = '123'\n",
    "        self.password = '123'\n",
    "    def Account(self):\n",
    "        \"\"\"\n",
    "        Input Account value\n",
    "        Arguments:\n",
    "        ---------\n",
    "            None.\n",
    "        Returns:\n",
    "        --------\n",
    "            None.\n",
    "        \"\"\"\n",
    "        self.acc = input('请输入账号:>>')\n",
    "    def Password(self):\n",
    "        \"\"\"\n",
    "        Input Password value\n",
    "        Arguments:\n",
    "        ---------\n",
    "            None.\n",
    "        Returns:\n",
    "        --------\n",
    "            None.\n",
    "        \"\"\"\n",
    "        self.passwor = input('请输入密码:>>')\n",
    "    def Check(self):\n",
    "        \"\"\"\n",
    "        Check account and password\n",
    "        Note:\n",
    "        ----\n",
    "            we need \"and\" connect.\n",
    "            if account and password is right, then login OK.\n",
    "            else: running Veriy func.\n",
    "        \"\"\"\n",
    "        if self.acc == self.account and self.passwor == self.password:\n",
    "            print('Success')\n",
    "        else:\n",
    "            # running Verify !\n",
    "            self.Verify()\n",
    "    def Verify(self):\n",
    "        \"\"\"\n",
    "        Verify ....\n",
    "        \"\"\"\n",
    "        Verify_Var = 123\n",
    "        print('验证码是:',Verify_Var)\n",
    "        while 1:\n",
    "            User_Verify = eval(input('请输入验证码:>>'))\n",
    "            if User_Verify == Verify_Var:\n",
    "                print('Failed')\n",
    "                break\n",
    "    def Start(self):\n",
    "        \"\"\"\n",
    "        Start definelogistics.\n",
    "        \"\"\"\n",
    "        self.Account()\n",
    "        self.Password()\n",
    "        self.Check()"
   ]
  },
  {
   "cell_type": "code",
   "execution_count": null,
   "metadata": {},
   "outputs": [],
   "source": []
  },
  {
   "cell_type": "code",
   "execution_count": null,
   "metadata": {},
   "outputs": [],
   "source": [
    "# 引号里是解释文档\n",
    "\n",
    "\n",
    "\"\"\"\n",
    "\n",
    "\"\"\"是注释"
   ]
  },
  {
   "cell_type": "code",
   "execution_count": 119,
   "metadata": {},
   "outputs": [],
   "source": [
    "import random\n",
    "class mxt:\n",
    "    def __init__(self):\n",
    "        print(\"初始化\")\n",
    "        self.a=random.randint(0,10)\n",
    "        self.b=random.randint(0,10)\n",
    "        self.c=random.randint(0,10)\n",
    "    def max_(self):\n",
    "        print(self.a,self.b,self.c)\n",
    "        return max(self.a,self.b,self.c)\n",
    "    def min_(self):\n",
    "        print(self.a,self.b,self.c)\n",
    "        return min(sef.a,self.b,self.c)"
   ]
  },
  {
   "cell_type": "code",
   "execution_count": 120,
   "metadata": {},
   "outputs": [
    {
     "name": "stdout",
     "output_type": "stream",
     "text": [
      "初始化\n"
     ]
    }
   ],
   "source": [
    "a = mxt()"
   ]
  },
  {
   "cell_type": "code",
   "execution_count": 122,
   "metadata": {},
   "outputs": [
    {
     "name": "stdout",
     "output_type": "stream",
     "text": [
      "0 0 4\n"
     ]
    },
    {
     "data": {
      "text/plain": [
       "4"
      ]
     },
     "execution_count": 122,
     "metadata": {},
     "output_type": "execute_result"
    }
   ],
   "source": [
    "a.max_()"
   ]
  },
  {
   "cell_type": "markdown",
   "metadata": {},
   "source": [
    "## 类的继承\n",
    "- 类的单继承\n",
    "- 类的多继承\n",
    "- 继承标识\n",
    ">  class SonClass(FatherClass):\n",
    "            \n",
    "            def __init__(self):\n",
    "            \n",
    "                FatherClass.__init__(self)"
   ]
  },
  {
   "cell_type": "code",
   "execution_count": 87,
   "metadata": {},
   "outputs": [],
   "source": [
    "# 只要有继承就要写括号\n",
    "class A:\n",
    "    def __init__(self):\n",
    "        self.a = \"a\"\n",
    "    def a_(self):\n",
    "        print(\"class A\")\n",
    "class C:\n",
    "        \n",
    "# 多继承自左向右，前面覆盖后面\n",
    "#两个下划线定义私有变量，前面加，后面不加，不能继承\n",
    "class B(A):\n",
    "    def __init__(self):\n",
    "        # 告诉A，B即将继承A\n",
    "        A.__init__(self)\n",
    "    def b_(self):\n",
    "        print(self.a)\n",
    "        self.a_()"
   ]
  },
  {
   "cell_type": "code",
   "execution_count": 88,
   "metadata": {},
   "outputs": [],
   "source": [
    "bb = B()"
   ]
  },
  {
   "cell_type": "code",
   "execution_count": 89,
   "metadata": {},
   "outputs": [
    {
     "name": "stdout",
     "output_type": "stream",
     "text": [
      "a\n",
      "class A\n"
     ]
    }
   ],
   "source": [
    "bb.b_()"
   ]
  },
  {
   "cell_type": "code",
   "execution_count": 95,
   "metadata": {},
   "outputs": [
    {
     "data": {
      "text/plain": [
       "['a',\n",
       " '__module__',\n",
       " '__init__',\n",
       " 'b_',\n",
       " '__doc__',\n",
       " 'a_',\n",
       " '__dict__',\n",
       " '__weakref__',\n",
       " '__repr__',\n",
       " '__hash__',\n",
       " '__str__',\n",
       " '__getattribute__',\n",
       " '__setattr__',\n",
       " '__delattr__',\n",
       " '__lt__',\n",
       " '__le__',\n",
       " '__eq__',\n",
       " '__ne__',\n",
       " '__gt__',\n",
       " '__ge__',\n",
       " '__new__',\n",
       " '__reduce_ex__',\n",
       " '__reduce__',\n",
       " '__subclasshook__',\n",
       " '__init_subclass__',\n",
       " '__format__',\n",
       " '__sizeof__',\n",
       " '__dir__',\n",
       " '__class__']"
      ]
     },
     "execution_count": 95,
     "metadata": {},
     "output_type": "execute_result"
    }
   ],
   "source": [
    "bb.__dir__()"
   ]
  },
  {
   "cell_type": "markdown",
   "metadata": {},
   "source": [
    "## 私有数据域(私有变量，或者私有函数)\n",
    "- 在Python中 变量名或者函数名使用双下划线代表私有  \\__Joker,   def \\__Joker():\n",
    "- 私有数据域不可继承\n",
    "- 私有数据域强制继承   \\__dir__()"
   ]
  },
  {
   "cell_type": "markdown",
   "metadata": {},
   "source": [
    "![](../Photo/87.png)"
   ]
  },
  {
   "cell_type": "markdown",
   "metadata": {},
   "source": [
    "## EP:\n",
    "![](../Photo/88.png)\n",
    "![](../Photo/89.png)\n",
    "![](../Photo/90.png)\n"
   ]
  },
  {
   "cell_type": "markdown",
   "metadata": {},
   "source": [
    "私有变量不可继承，不可调用，但是可以在内部使用"
   ]
  },
  {
   "cell_type": "code",
   "execution_count": 97,
   "metadata": {},
   "outputs": [],
   "source": [
    "# @staticmethod  静态调用（使用很少）"
   ]
  },
  {
   "cell_type": "markdown",
   "metadata": {},
   "source": [
    "## 类的其他\n",
    "- 类的封装\n",
    "    - 实际上就是将一类功能放在一起，方便未来进行管理\n",
    "- 类的继承（上面已经讲过）\n",
    "- 类的多态\n",
    "    - 包括装饰器：将放在以后处理高级类中教\n",
    "    - 装饰器的好处：当许多类中的函数需要使用同一个功能的时候，那么使用装饰器就会方便许多\n",
    "    - 装饰器是有固定的写法\n",
    "        - 其包括普通装饰器与带参装饰器"
   ]
  },
  {
   "cell_type": "markdown",
   "metadata": {},
   "source": [
    "# Homewor\n",
    "## UML类图可以不用画\n",
    "## UML 实际上就是一个思维图\n",
    "- 1\n",
    "![](../Photo/91.png)"
   ]
  },
  {
   "cell_type": "code",
   "execution_count": 10,
   "metadata": {},
   "outputs": [],
   "source": [
    "class A:\n",
    "    def __init__(self):\n",
    "        print(\"我初始化了\")\n",
    "    def juxing(self):\n",
    "        self.width = 1\n",
    "        self.heightd = 2\n",
    "    def Area(self):\n",
    "        self.area = self.width * self.heightd\n",
    "        print(\"面积是:>>\",self.area)\n",
    "    def getPrermeter(self):\n",
    "        self.getprermeter = (self.width + self.heightd) * 2\n",
    "        print(\"周长是:>>\",self.getprermeter)"
   ]
  },
  {
   "cell_type": "code",
   "execution_count": 11,
   "metadata": {},
   "outputs": [
    {
     "name": "stdout",
     "output_type": "stream",
     "text": [
      "我初始化了\n"
     ]
    }
   ],
   "source": [
    "a = A()"
   ]
  },
  {
   "cell_type": "code",
   "execution_count": 13,
   "metadata": {},
   "outputs": [
    {
     "name": "stdout",
     "output_type": "stream",
     "text": [
      "周长是:>> 6\n"
     ]
    }
   ],
   "source": [
    "a.getPrermeter()"
   ]
  },
  {
   "cell_type": "code",
   "execution_count": 14,
   "metadata": {
    "scrolled": true
   },
   "outputs": [
    {
     "name": "stdout",
     "output_type": "stream",
     "text": [
      "面积是:>> 2\n"
     ]
    }
   ],
   "source": [
    "a.Area()"
   ]
  },
  {
   "cell_type": "code",
   "execution_count": null,
   "metadata": {},
   "outputs": [],
   "source": []
  },
  {
   "cell_type": "markdown",
   "metadata": {},
   "source": [
    "- 2\n",
    "![](../Photo/92.png)"
   ]
  },
  {
   "cell_type": "code",
   "execution_count": null,
   "metadata": {},
   "outputs": [],
   "source": [
    "class Account:\n",
    "    def __init__(self):\n",
    "        print(\"我初始化了\")\n",
    "    def ID(self):\n",
    "        self.id = 0\n",
    "        self.zhanghue = 20000\n",
    "        self.qu = 2500\n",
    "        self.cun = 3000\n",
    "        self.lilv = 4.5 / 100\n",
    "        print(\"\")\n",
    "    def \n",
    "        "
   ]
  },
  {
   "cell_type": "code",
   "execution_count": null,
   "metadata": {},
   "outputs": [],
   "source": []
  },
  {
   "cell_type": "markdown",
   "metadata": {},
   "source": [
    "- 3\n",
    "![](../Photo/93.png)"
   ]
  },
  {
   "cell_type": "code",
   "execution_count": 35,
   "metadata": {},
   "outputs": [],
   "source": [
    "class Fan:\n",
    "    def __init__(self):\n",
    "        \"\"\"\n",
    "        定义初始化\n",
    "        \"\"\"\n",
    "        print(\"我初始化了\")\n",
    "    def SUDU(self):\n",
    "        \"\"\"\n",
    "        定义速度，慢速度是1，中速度是2，快速度是3\n",
    "        \"\"\"\n",
    "        self.SLOW = 1\n",
    "        self.MEDIUM = 2\n",
    "        self.FAST = 3\n",
    "        print(\"最慢的速度是:>>\",self.SLOW,\"中速度:>>\",self.MEDIUM,\"最快速度:>>\",self.FAST)\n",
    "    def duixiang1(self):\n",
    "        \"\"\"\n",
    "        对第一个对象定义，速度是快，状态是开，半径是10，颜色是黄色\n",
    "        \"\"\"\n",
    "        self.speed1 = 3\n",
    "        self.on1 = \"True\"\n",
    "        self.radius1 = 10\n",
    "        self.color1 = \"yellow\"\n",
    "        print(\"第一个对象的速度是:>>\",self.speed1,\"状态:>>\",self.on1,\"半径是:>>\",self.radius1,\"颜色是:>>\",self.color1)\n",
    "    def duixiang2(self):\n",
    "        \"\"\"\n",
    "        对第二个对象定义，速度是中速，状态是默认关，半径是5，颜色是蓝色\n",
    "        \"\"\"\n",
    "        self.speed2 = 2\n",
    "        self.on2 = \"False\"\n",
    "        self.radius2 = 5\n",
    "        self.color2 = \"blue\"\n",
    "        print(\"第二个对象的速度是:>>\",self.speed2,\"状态:>>\",self.on2,\"半径是:>>\",self.radius2,\"颜色是:>>\",self.color2)"
   ]
  },
  {
   "cell_type": "code",
   "execution_count": 36,
   "metadata": {},
   "outputs": [
    {
     "name": "stdout",
     "output_type": "stream",
     "text": [
      "我初始化了\n"
     ]
    }
   ],
   "source": [
    "a = Fan()"
   ]
  },
  {
   "cell_type": "code",
   "execution_count": 37,
   "metadata": {},
   "outputs": [
    {
     "name": "stdout",
     "output_type": "stream",
     "text": [
      "最慢的速度是:>> 1 中速度:>> 2 最快速度:>> 3\n"
     ]
    }
   ],
   "source": [
    "a.SUDU()"
   ]
  },
  {
   "cell_type": "code",
   "execution_count": 38,
   "metadata": {},
   "outputs": [
    {
     "name": "stdout",
     "output_type": "stream",
     "text": [
      "第一个对象的速度是:>> 3 状态:>> True 半径是:>> 10 颜色是:>> yellow\n"
     ]
    }
   ],
   "source": [
    "a.duixiang1()"
   ]
  },
  {
   "cell_type": "code",
   "execution_count": 39,
   "metadata": {},
   "outputs": [
    {
     "name": "stdout",
     "output_type": "stream",
     "text": [
      "第二个对象的速度是:>> 2 状态:>> False 半径是:>> 5 颜色是:>> blue\n"
     ]
    }
   ],
   "source": [
    "a.duixiang2()"
   ]
  },
  {
   "cell_type": "markdown",
   "metadata": {},
   "source": [
    "- 4\n",
    "![](../Photo/94.png)\n",
    "![](../Photo/95.png)"
   ]
  },
  {
   "cell_type": "code",
   "execution_count": 21,
   "metadata": {},
   "outputs": [],
   "source": [
    "import math\n",
    "class RegularPolygon:\n",
    "    def __init__(self):\n",
    "        \"\"\"\n",
    "        边数默认值是3，边长默认值是1，x默认值是0，y默认值是0\n",
    "        \"\"\"\n",
    "        self.bianshu = 3\n",
    "        self.bianchang = 1\n",
    "        self.x = 0\n",
    "        self.y = 0\n",
    "        print(\"我初始化了\")\n",
    "    def RegularPolygon(self):\n",
    "        \"\"\"\n",
    "        周长等于边数乘边长，面积套用上面的公式\n",
    "        \"\"\"\n",
    "        self.zhouchang = self.bianshu * self.bianchang\n",
    "        self.mianji = (self.bianshu * self.bianchang * self.bianchang) / (4 * math.tan(math.pi / self.bianshu))\n",
    "\n",
    "        print(\"周长是:>>\",self.zhouchang,\"面积是:>>\",self.mianji)"
   ]
  },
  {
   "cell_type": "code",
   "execution_count": 22,
   "metadata": {},
   "outputs": [
    {
     "name": "stdout",
     "output_type": "stream",
     "text": [
      "我初始化了\n"
     ]
    }
   ],
   "source": [
    "a = RegularPolygon()"
   ]
  },
  {
   "cell_type": "code",
   "execution_count": 23,
   "metadata": {},
   "outputs": [
    {
     "name": "stdout",
     "output_type": "stream",
     "text": [
      "周长是:>> 3 面积是:>> 0.43301270189221946\n"
     ]
    }
   ],
   "source": [
    "a.RegularPolygon()"
   ]
  },
  {
   "cell_type": "markdown",
   "metadata": {},
   "source": [
    "- 5\n",
    "![](../Photo/96.png)"
   ]
  },
  {
   "cell_type": "code",
   "execution_count": 24,
   "metadata": {},
   "outputs": [],
   "source": [
    "class LinearEquation:\n",
    "    def __init__(self):\n",
    "        \"\"\"\n",
    "        输入a,b,c,d,e,f的值\n",
    "        \"\"\"\n",
    "        self.a = eval(input('输入a值'))\n",
    "        self.b = eval(input('输入b值'))\n",
    "        self.c = eval(input('输入c值'))\n",
    "        self.d = eval(input('输入d值'))\n",
    "        self.e = eval(input('输入e值'))\n",
    "        self.f = eval(input('输入f值'))\n",
    "        print(\"我初始化了\")\n",
    "    def isSolvable(self):\n",
    "        \"\"\"\n",
    "        判断是不是true，如果分母不等于0，则true\n",
    "        否则无解\n",
    "        \"\"\"\n",
    "        if self.a * self.d - self.b * self.c != 0:\n",
    "            print(\"true\")\n",
    "        else:\n",
    "            print(\"无解\")\n",
    "    def jie(self):\n",
    "        \"\"\"\n",
    "        算出x和y的值\n",
    "        \"\"\"\n",
    "        self.getX = (self.e * self.d - self.b * self.f) / (self.a * self.d - self.b * self.c)\n",
    "        self.getY = (self.a * self.f - self.e * self.c) / (self.a * self.d - self.b * self.c)\n",
    "        print(\"X的值是:>>\",round(self.getX,2),\"Y的值是:>>\",round(self.getY,2))"
   ]
  },
  {
   "cell_type": "code",
   "execution_count": 18,
   "metadata": {},
   "outputs": [
    {
     "name": "stdout",
     "output_type": "stream",
     "text": [
      "输入a值8\n",
      "输入b值7\n",
      "输入c值5\n",
      "输入d值6\n",
      "输入e值2\n",
      "输入f值4\n",
      "我初始化了\n"
     ]
    }
   ],
   "source": [
    "a = LinearEquation()"
   ]
  },
  {
   "cell_type": "code",
   "execution_count": 19,
   "metadata": {
    "scrolled": true
   },
   "outputs": [
    {
     "name": "stdout",
     "output_type": "stream",
     "text": [
      "true\n"
     ]
    }
   ],
   "source": [
    "a.isSolvable()"
   ]
  },
  {
   "cell_type": "code",
   "execution_count": 20,
   "metadata": {},
   "outputs": [
    {
     "name": "stdout",
     "output_type": "stream",
     "text": [
      "X的值是:>> -1.23 Y的值是:>> 1.69\n"
     ]
    }
   ],
   "source": [
    "a.jie()"
   ]
  },
  {
   "cell_type": "markdown",
   "metadata": {},
   "source": [
    "- 6\n",
    "![](../Photo/97.png)"
   ]
  },
  {
   "cell_type": "code",
   "execution_count": 45,
   "metadata": {},
   "outputs": [],
   "source": [
    "class LinearEquation:\n",
    "    def __init__(self):\n",
    "        \"\"\"\n",
    "        初始化\n",
    "        \"\"\"\n",
    "        print(\"我初始化了\")\n",
    "    def duandian1(self):\n",
    "        \"\"\"\n",
    "        输入第一条直线的两个端点值\n",
    "        \"\"\"\n",
    "        self.x1 = eval(input(\"请输入第一个端点的x值\"))\n",
    "        self.y1 = eval(input(\"请输入第一个端点的y值\"))\n",
    "        self.x2 = eval(input(\"请输入第二个端点的x值\"))\n",
    "        self.y2 = eval(input(\"请输入第二个端点的y值\"))\n",
    "    def duandian2(self):\n",
    "        \"\"\"\n",
    "        输入第二条直线的两个端点值\n",
    "        \"\"\"\n",
    "        self.x3 = eval(input(\"请输入第三个端点的x值\"))\n",
    "        self.y3 = eval(input(\"请输入第三个端点的y值\"))\n",
    "        self.x4 = eval(input(\"请输入第四个端点的x值\"))\n",
    "        self.y4 = eval(input(\"请输入第四个端点的y值\"))\n",
    "    def zhixian1(self):\n",
    "        \"\"\"\n",
    "        根据第一条直线的两个端点值算出第一条直线的斜率k1和截距b1\n",
    "        \"\"\"\n",
    "        self.k1 = (self.y1 - self.y2) / (self.x1 - self.x2)\n",
    "        self.b1 = self.y1 - self.k1 * self.x1\n",
    "        print(\"第一条直线的斜率和截距是:>>\",self.k1,self.b1)\n",
    "    def zhixian2(self):\n",
    "        \"\"\"\n",
    "        根据第二条直线的两个端点值算出第二条直线的斜率k2和截距b2\n",
    "        \"\"\"\n",
    "        self.k2 = (self.y3 - self.y4) / (self.x3 - self.x4)\n",
    "        self.b2 = self.y3 - self.k2 * self.x3\n",
    "        print(\"第二条直线的斜率和截距是:>>\",self.k2,self.b2)\n",
    "    def jiaodian(self):\n",
    "        \"\"\"\n",
    "        根据第一条直线和第二条直线的斜率和截距算出交点x和y\n",
    "        \"\"\"\n",
    "        self.x = (self.b2 - self.b1) / (self.k1 - self.k2)\n",
    "        self.y = self.k1 * self.x + self.b1\n",
    "        print(\"交点是:>>\",self.x,self.y)"
   ]
  },
  {
   "cell_type": "code",
   "execution_count": 46,
   "metadata": {},
   "outputs": [
    {
     "name": "stdout",
     "output_type": "stream",
     "text": [
      "我初始化了\n"
     ]
    }
   ],
   "source": [
    "a = LinearEquation()"
   ]
  },
  {
   "cell_type": "code",
   "execution_count": 47,
   "metadata": {
    "scrolled": true
   },
   "outputs": [
    {
     "name": "stdout",
     "output_type": "stream",
     "text": [
      "请输入第一个端点的x值2\n",
      "请输入第一个端点的y值2\n",
      "请输入第二个端点的x值0\n",
      "请输入第二个端点的y值0\n"
     ]
    }
   ],
   "source": [
    "a.duandian1()"
   ]
  },
  {
   "cell_type": "code",
   "execution_count": 48,
   "metadata": {},
   "outputs": [
    {
     "name": "stdout",
     "output_type": "stream",
     "text": [
      "请输入第三个端点的x值0\n",
      "请输入第三个端点的y值2\n",
      "请输入第四个端点的x值2\n",
      "请输入第四个端点的y值0\n"
     ]
    }
   ],
   "source": [
    "a.duandian2()"
   ]
  },
  {
   "cell_type": "code",
   "execution_count": 49,
   "metadata": {},
   "outputs": [
    {
     "name": "stdout",
     "output_type": "stream",
     "text": [
      "第一条直线的斜率和截距是:>> 1.0 0.0\n"
     ]
    }
   ],
   "source": [
    "a.zhixian1()"
   ]
  },
  {
   "cell_type": "code",
   "execution_count": 50,
   "metadata": {},
   "outputs": [
    {
     "name": "stdout",
     "output_type": "stream",
     "text": [
      "第二条直线的斜率和截距是:>> -1.0 2.0\n"
     ]
    }
   ],
   "source": [
    "a.zhixian2()"
   ]
  },
  {
   "cell_type": "code",
   "execution_count": 51,
   "metadata": {},
   "outputs": [
    {
     "name": "stdout",
     "output_type": "stream",
     "text": [
      "交点是:>> 1.0 1.0\n"
     ]
    }
   ],
   "source": [
    "a.jiaodian()"
   ]
  },
  {
   "cell_type": "markdown",
   "metadata": {},
   "source": [
    "- 7\n",
    "![](../Photo/98.png)"
   ]
  }
 ],
 "metadata": {
  "kernelspec": {
   "display_name": "Python 3",
   "language": "python",
   "name": "python3"
  },
  "language_info": {
   "codemirror_mode": {
    "name": "ipython",
    "version": 3
   },
   "file_extension": ".py",
   "mimetype": "text/x-python",
   "name": "python",
   "nbconvert_exporter": "python",
   "pygments_lexer": "ipython3",
   "version": "3.7.3"
  }
 },
 "nbformat": 4,
 "nbformat_minor": 2
}
