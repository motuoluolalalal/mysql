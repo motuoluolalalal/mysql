{
 "cells": [
  {
   "cell_type": "markdown",
   "metadata": {},
   "source": [
    "# 选择\n",
    "## 布尔类型、数值和表达式\n",
    "![](../Photo/33.png)\n",
    "- 注意：比较运算符的相等是两个等号，一个等到代表赋值\n",
    "- 在Python中可以用整型0来代表False，其他数字来代表True\n",
    "- 后面还会讲到 is 在判断语句中的用发"
   ]
  },
  {
   "cell_type": "code",
   "execution_count": 5,
   "metadata": {},
   "outputs": [
    {
     "data": {
      "text/plain": [
       "False"
      ]
     },
     "execution_count": 5,
     "metadata": {},
     "output_type": "execute_result"
    }
   ],
   "source": [
    "a = 1\n",
    "b = \"2\"\n",
    "a == b"
   ]
  },
  {
   "cell_type": "code",
   "execution_count": 6,
   "metadata": {},
   "outputs": [
    {
     "data": {
      "text/plain": [
       "False"
      ]
     },
     "execution_count": 6,
     "metadata": {},
     "output_type": "execute_result"
    }
   ],
   "source": [
    "0 is 1"
   ]
  },
  {
   "cell_type": "markdown",
   "metadata": {},
   "source": [
    "## 字符串的比较使用ASCII值"
   ]
  },
  {
   "cell_type": "code",
   "execution_count": 9,
   "metadata": {},
   "outputs": [
    {
     "data": {
      "text/plain": [
       "False"
      ]
     },
     "execution_count": 9,
     "metadata": {},
     "output_type": "execute_result"
    }
   ],
   "source": [
    "a = \"Wodet\"\n",
    "b = \"lalal\"\n",
    "a > b "
   ]
  },
  {
   "cell_type": "markdown",
   "metadata": {},
   "source": [
    "## Markdown \n",
    "- https://github.com/younghz/Markdown"
   ]
  },
  {
   "cell_type": "markdown",
   "metadata": {},
   "source": [
    "x = 2x - 1"
   ]
  },
  {
   "cell_type": "markdown",
   "metadata": {},
   "source": [
    "## EP:\n",
    "- <img src=\"../Photo/34.png\"></img>\n",
    "- 输入一个数字，判断其实奇数还是偶数"
   ]
  },
  {
   "cell_type": "code",
   "execution_count": 13,
   "metadata": {},
   "outputs": [
    {
     "data": {
      "text/plain": [
       "1"
      ]
     },
     "execution_count": 13,
     "metadata": {},
     "output_type": "execute_result"
    }
   ],
   "source": [
    "int(True)"
   ]
  },
  {
   "cell_type": "code",
   "execution_count": 18,
   "metadata": {},
   "outputs": [
    {
     "data": {
      "text/plain": [
       "False"
      ]
     },
     "execution_count": 18,
     "metadata": {},
     "output_type": "execute_result"
    }
   ],
   "source": [
    "bool(0)"
   ]
  },
  {
   "cell_type": "code",
   "execution_count": 23,
   "metadata": {},
   "outputs": [
    {
     "name": "stdout",
     "output_type": "stream",
     "text": [
      "x:>>4\n",
      "偶数\n"
     ]
    }
   ],
   "source": [
    "x = eval(input(\"x:>>\"))\n",
    "if (x%2 == 0):\n",
    "    print(\"偶数\")\n",
    "if x%2 == 1:\n",
    "    print(\"奇数\")"
   ]
  },
  {
   "cell_type": "code",
   "execution_count": 62,
   "metadata": {},
   "outputs": [
    {
     "ename": "SyntaxError",
     "evalue": "invalid syntax (<ipython-input-62-2cfbb9f7922e>, line 2)",
     "output_type": "error",
     "traceback": [
      "\u001b[1;36m  File \u001b[1;32m\"<ipython-input-62-2cfbb9f7922e>\"\u001b[1;36m, line \u001b[1;32m2\u001b[0m\n\u001b[1;33m    if x%2 == 0::\u001b[0m\n\u001b[1;37m                ^\u001b[0m\n\u001b[1;31mSyntaxError\u001b[0m\u001b[1;31m:\u001b[0m invalid syntax\n"
     ]
    }
   ],
   "source": [
    "x = eval(input(\">>\"))\n",
    "if x%2 == 0::\n",
    "    print(\"偶数\")\n",
    "else\n",
    "    print(\"奇数\")"
   ]
  },
  {
   "cell_type": "markdown",
   "metadata": {},
   "source": [
    "## 产生随机数字\n",
    "- 函数random.randint(a,b) 可以用来产生一个a和b之间且包括a和b的随机整数"
   ]
  },
  {
   "cell_type": "code",
   "execution_count": 41,
   "metadata": {},
   "outputs": [
    {
     "ename": "SyntaxError",
     "evalue": "invalid character in identifier (<ipython-input-41-994a34ed3c64>, line 2)",
     "output_type": "error",
     "traceback": [
      "\u001b[1;36m  File \u001b[1;32m\"<ipython-input-41-994a34ed3c64>\"\u001b[1;36m, line \u001b[1;32m2\u001b[0m\n\u001b[1;33m    random.randint(1，9)\u001b[0m\n\u001b[1;37m                     ^\u001b[0m\n\u001b[1;31mSyntaxError\u001b[0m\u001b[1;31m:\u001b[0m invalid character in identifier\n"
     ]
    }
   ],
   "source": [
    "import random\n",
    "random.randint(1，9)"
   ]
  },
  {
   "cell_type": "code",
   "execution_count": 37,
   "metadata": {},
   "outputs": [
    {
     "name": "stdout",
     "output_type": "stream",
     "text": [
      "请输入一个数字5\n",
      "正确\n"
     ]
    }
   ],
   "source": [
    "y = eval(input(\"请输入一个数字\"))\n",
    "if y > x:\n",
    "    print(\"太大了\")\n",
    "if y < x:\n",
    "    print(\"太小了\")\n",
    "if y ==x:\n",
    "    print(\"正确\")"
   ]
  },
  {
   "cell_type": "code",
   "execution_count": null,
   "metadata": {},
   "outputs": [],
   "source": []
  },
  {
   "cell_type": "markdown",
   "metadata": {},
   "source": [
    "产生一个随机数，你去输入，如果你输入的数大于随机数，那么就告诉你太大了，反之，太小了，\n",
    "然后你一直输入，知道它满意为止"
   ]
  },
  {
   "cell_type": "markdown",
   "metadata": {},
   "source": [
    "##  其他random方法\n",
    "- random.random 返回0.0到1.0之间前闭后开区间的随机浮点\n",
    "- random.randrange(a,b) 前闭后开"
   ]
  },
  {
   "cell_type": "code",
   "execution_count": 42,
   "metadata": {},
   "outputs": [
    {
     "data": {
      "text/plain": [
       "4"
      ]
     },
     "execution_count": 42,
     "metadata": {},
     "output_type": "execute_result"
    }
   ],
   "source": [
    "random.randrange(3,5)"
   ]
  },
  {
   "cell_type": "markdown",
   "metadata": {},
   "source": [
    "## EP：\n",
    "- 产生两个随机整数number1和number2，然后显示给用户，使用户输入数字的和，并判定其是否正确\n",
    "- 进阶:写一个随机序号点名程序"
   ]
  },
  {
   "cell_type": "code",
   "execution_count": 58,
   "metadata": {},
   "outputs": [
    {
     "name": "stdout",
     "output_type": "stream",
     "text": [
      "4\n",
      "6\n",
      "请输入数字和6\n",
      "错误\n"
     ]
    }
   ],
   "source": [
    "number1 = random.randrange(1,9)\n",
    "number2 = random.randrange(1,9)\n",
    "print(number1)\n",
    "print(number2)\n",
    "n = eval(input(\"请输入数字和\"))\n",
    "\n",
    "if n == (number1 + number2):\n",
    "    print(\"正确\")\n",
    "else:\n",
    "    print(\"错误\")"
   ]
  },
  {
   "cell_type": "code",
   "execution_count": 59,
   "metadata": {},
   "outputs": [
    {
     "name": "stdout",
     "output_type": "stream",
     "text": [
      "x5\n",
      "错误\n",
      "x7\n",
      "错误\n",
      "x4\n",
      "错误\n",
      "x6\n",
      "错误\n",
      "x8\n",
      "错误\n"
     ]
    }
   ],
   "source": [
    "for i in range(5):\n",
    "    x = eval(input(\"x\"))\n",
    "    if x == (number1 + number2):\n",
    "        print(\"正确\")\n",
    "        break\n",
    "    else:\n",
    "        print(\"错误\")"
   ]
  },
  {
   "cell_type": "code",
   "execution_count": 61,
   "metadata": {},
   "outputs": [
    {
     "name": "stdout",
     "output_type": "stream",
     "text": [
      "a4\n",
      "2 可以整除\n",
      "4 可以整除\n"
     ]
    }
   ],
   "source": [
    "n = eval(input(\"a\"))\n",
    "\n",
    "for i in range(2,5):\n",
    "    if x%i == 0:\n",
    "        print(i,\"可以整除\")"
   ]
  },
  {
   "cell_type": "code",
   "execution_count": null,
   "metadata": {},
   "outputs": [],
   "source": [
    "#有冒号需要缩进四个空格"
   ]
  },
  {
   "cell_type": "markdown",
   "metadata": {},
   "source": [
    "## if语句\n",
    "- 如果条件正确就执行一个单向if语句，亦即当条件为真的时候才执行if内部的语句\n",
    "- Python有很多选择语句:\n",
    "> - 单向if \n",
    "  - 双向if-else\n",
    "  - 嵌套if\n",
    "  - 多向if-elif-else\n",
    "  \n",
    "- 注意：当语句含有子语句的时候，那么一定至少要有一个缩进，也就是说如果有儿子存在，那么一定要缩进\n",
    "- 切记不可tab键和space混用，单用tab 或者 space\n",
    "- 当你输出的结果是无论if是否为真时都需要显示时，语句应该与if对齐"
   ]
  },
  {
   "cell_type": "code",
   "execution_count": 4,
   "metadata": {
    "scrolled": true
   },
   "outputs": [
    {
     "name": "stdout",
     "output_type": "stream",
     "text": [
      "是否有钱[y/n]y\n",
      "再问一个问题\n",
      "帅不帅[y/n]y\n",
      "非常关键的一个问题\n",
      "是否有妻子[y/n]y\n",
      "不拒绝\n"
     ]
    }
   ],
   "source": [
    "money = input(\"是否有钱[y/n]\")\n",
    "if money == \"y\":\n",
    "    print(\"再问一个问题\")\n",
    "    handsome = input(\"帅不帅[y/n]\")\n",
    "    if handsome == \"y\":\n",
    "        print(\"非常关键的一个问题\")\n",
    "        wife = input(\"是否有妻子[y/n]\")\n",
    "        if wife == \"y\":\n",
    "            print(\"不拒绝\")\n",
    "        else:\n",
    "            print(\"马上结婚\")\n",
    "    else:\n",
    "        print(\"考虑一下\")\n",
    "else:\n",
    "    print(\"Gun~\")"
   ]
  },
  {
   "cell_type": "code",
   "execution_count": 6,
   "metadata": {},
   "outputs": [],
   "source": [
    "#if condiiton:\n",
    "    #if condition:\n",
    "        #do something\n",
    "    #else:\n",
    "        #other\n",
    "    #do something\n",
    "#else:\n",
    "    #other"
   ]
  },
  {
   "cell_type": "code",
   "execution_count": 7,
   "metadata": {},
   "outputs": [
    {
     "name": "stdout",
     "output_type": "stream",
     "text": [
      "B\n"
     ]
    }
   ],
   "source": [
    "score = 80\n",
    "if score >= 90:\n",
    "    grad = \"A\"\n",
    "elif score >= 80:\n",
    "    grad = \"B\"\n",
    "elif score >= 70:\n",
    "    grad = \"D\"\n",
    "    \n",
    "print(grad)"
   ]
  },
  {
   "cell_type": "code",
   "execution_count": null,
   "metadata": {},
   "outputs": [],
   "source": [
    "#elif,成立的话其他一个不走"
   ]
  },
  {
   "cell_type": "code",
   "execution_count": 14,
   "metadata": {},
   "outputs": [
    {
     "ename": "SyntaxError",
     "evalue": "invalid syntax (<ipython-input-14-9a53ee22f06f>, line 13)",
     "output_type": "error",
     "traceback": [
      "\u001b[1;36m  File \u001b[1;32m\"<ipython-input-14-9a53ee22f06f>\"\u001b[1;36m, line \u001b[1;32m13\u001b[0m\n\u001b[1;33m    elif x = 1:\u001b[0m\n\u001b[1;37m           ^\u001b[0m\n\u001b[1;31mSyntaxError\u001b[0m\u001b[1;31m:\u001b[0m invalid syntax\n"
     ]
    }
   ],
   "source": [
    "money = input(\"money[1/0]\")\n",
    "handsome = input(\"handsome[1/0]\")\n",
    "wife = input(\"wife[1/0]\")\n",
    "\n",
    "x = money + handsome + wife\n",
    "if x == 3:\n",
    "    print(\"马上结婚\")\n",
    "elif x == 2:\n",
    "    if \n",
    "    print(\"考虑一下\")\n",
    "    \n",
    "elif x = 1:\n",
    "    print(\"不拒绝\")\n",
    "elif x == 0:\n",
    "    print(\"gun\")\n",
    "print(\"grade\")"
   ]
  },
  {
   "cell_type": "code",
   "execution_count": null,
   "metadata": {},
   "outputs": [],
   "source": [
    "#if和elif必须出现一次"
   ]
  },
  {
   "cell_type": "markdown",
   "metadata": {},
   "source": [
    "## EP：\n",
    "- 用户输入一个数字，判断其实奇数还是偶数\n",
    "- 进阶：可以查看下4.5实例研究猜生日"
   ]
  },
  {
   "cell_type": "markdown",
   "metadata": {},
   "source": [
    "## 双向if-else 语句\n",
    "- 如果条件为真，那么走if内部语句，否则走else内部语句"
   ]
  },
  {
   "cell_type": "markdown",
   "metadata": {},
   "source": [
    "## EP：\n",
    "- 产生两个随机整数number1和number2，然后显示给用户，使用户输入数字，并判定其是否正确,如果正确打印“you‘re correct”，否则打印正确错误"
   ]
  },
  {
   "cell_type": "markdown",
   "metadata": {},
   "source": [
    "## 嵌套if 和多向if-elif-else\n",
    "![](../Photo/35.png)"
   ]
  },
  {
   "cell_type": "markdown",
   "metadata": {},
   "source": [
    "## EP：\n",
    "- 提示用户输入一个年份，然后显示表示这一年的动物\n",
    "![](../Photo/36.png)\n",
    "- 计算身体质量指数的程序\n",
    "- BMI = 以千克为单位的体重除以以米为单位的身高的平方\n",
    "![](../Photo/37.png)"
   ]
  },
  {
   "cell_type": "code",
   "execution_count": 19,
   "metadata": {},
   "outputs": [
    {
     "name": "stdout",
     "output_type": "stream",
     "text": [
      "year1999\n",
      "猴子\n"
     ]
    }
   ],
   "source": [
    "year = eval(input(\"year\"))\n",
    "x = year % 1\n",
    "if x ==0:\n",
    "    print(\"猴子\")\n",
    "elif x ==1:\n",
    "    print(\"鸡\")\n",
    "elif x ==2:\n",
    "    print(\"狗\")\n",
    "elif x ==3:\n",
    "    print(\"猪\")\n",
    "elif x ==4:\n",
    "    print(\"鼠\")\n",
    "elif x ==5:\n",
    "    print(\"牛\")\n",
    "elif x ==6:\n",
    "    print(\"虎\")\n",
    "elif x ==7:\n",
    "    print(\"兔\")\n",
    "elif x ==8:\n",
    "    print(\"龙\")\n",
    "elif x ==9:\n",
    "    print(\"蛇\")\n",
    "elif x ==10:\n",
    "    print(\"马\")\n",
    "elif x ==11:\n",
    "    print(\"羊\")"
   ]
  },
  {
   "cell_type": "code",
   "execution_count": 12,
   "metadata": {},
   "outputs": [
    {
     "name": "stdout",
     "output_type": "stream",
     "text": [
      "身高1.71\n",
      "体重52\n",
      "超轻\n"
     ]
    }
   ],
   "source": [
    "身高 = eval(input(\"身高\"))\n",
    "体重 = eval(input(\"体重\"))\n",
    "BMI = 体重 / 身高**2\n",
    "if BMI<18.5:\n",
    "    print(\"超轻\")\n",
    "elif 18.5<=BMI<25:\n",
    "    print(\"标准\")\n",
    "elif 25<=BMI<30:\n",
    "    print(\"超重\")\n",
    "else:\n",
    "    print(\"超超级胖\")"
   ]
  },
  {
   "cell_type": "markdown",
   "metadata": {},
   "source": [
    "## 逻辑运算符\n",
    "![](../Photo/38.png)"
   ]
  },
  {
   "cell_type": "markdown",
   "metadata": {},
   "source": [
    "![](../Photo/39.png)\n",
    "![](../Photo/40.png)"
   ]
  },
  {
   "cell_type": "markdown",
   "metadata": {},
   "source": [
    "## EP：\n",
    "- 判定闰年：一个年份如果能被4整除但不能被100整除，或者能被400整除，那么这个年份就是闰年\n",
    "- 提示用户输入一个年份，并返回是否是闰年\n",
    "- 提示用户输入一个数字，判断其是否为水仙花数"
   ]
  },
  {
   "cell_type": "code",
   "execution_count": 5,
   "metadata": {},
   "outputs": [
    {
     "name": "stdout",
     "output_type": "stream",
     "text": [
      "请输入一个年份2008\n",
      "闰年\n"
     ]
    }
   ],
   "source": [
    "year = eval(input(\"请输入一个年份\"))\n",
    "if (year % 4 == 0 and year%100 !=0) or (year % 400 == 0):\n",
    "    print(\"闰年\")\n",
    "else:\n",
    "    print(\"平年\")"
   ]
  },
  {
   "cell_type": "code",
   "execution_count": 8,
   "metadata": {},
   "outputs": [
    {
     "name": "stdout",
     "output_type": "stream",
     "text": [
      "数字153\n",
      "水仙花\n"
     ]
    }
   ],
   "source": [
    "number = eval(input(\"数字\"))\n",
    "bai = number // 100\n",
    "shi = number // 10 % 10\n",
    "ge = number % 10\n",
    "\n",
    "if bai**3 + shi**3 + ge**3 == number:\n",
    "    print(\"水仙花\")"
   ]
  },
  {
   "cell_type": "code",
   "execution_count": null,
   "metadata": {},
   "outputs": [],
   "source": [
    "n = eval(input(\"a\"))\n",
    "\n",
    "for i in range(2,5):\n",
    "    if x%i == 0:\n",
    "        print(i,\"可以整除\")"
   ]
  },
  {
   "cell_type": "markdown",
   "metadata": {},
   "source": [
    "## 实例研究：彩票\n",
    "![](../Photo/41.png)"
   ]
  },
  {
   "cell_type": "markdown",
   "metadata": {},
   "source": [
    "# Homework\n",
    "- 1\n",
    "![](../Photo/42.png)"
   ]
  },
  {
   "cell_type": "code",
   "execution_count": 31,
   "metadata": {},
   "outputs": [],
   "source": [
    "import math"
   ]
  },
  {
   "cell_type": "code",
   "execution_count": 9,
   "metadata": {},
   "outputs": [
    {
     "name": "stdout",
     "output_type": "stream",
     "text": [
      "a1\n",
      "b2\n",
      "c3\n",
      "没有根\n"
     ]
    }
   ],
   "source": [
    "a = eval(input(\"a\"))\n",
    "b = eval(input(\"b\"))\n",
    "c = eval(input(\"c\"))\n",
    "x = b * b - 4 * a * c\n",
    "if x > 0:\n",
    "    r1 = (-b + sqrt.math((b * b) - 4 * a * c)) / 2 * a\n",
    "    r2 = (-b - sqrt.math((b * b) - 4 * a * c)) / 2 * a\n",
    "    print(\"r1,r2\")\n",
    "elif x == 0:\n",
    "    r3 = (-b + sqrt.math((b * b) - 4 * a * c)) / 2 * a\n",
    "    print(\"r3\")\n",
    "elif x < 0:\n",
    "    print(\"没有根\")"
   ]
  },
  {
   "cell_type": "markdown",
   "metadata": {},
   "source": [
    "- 2\n",
    "![](../Photo/43.png)"
   ]
  },
  {
   "cell_type": "code",
   "execution_count": 15,
   "metadata": {},
   "outputs": [
    {
     "name": "stdout",
     "output_type": "stream",
     "text": [
      "请输入数字和50\n",
      "假\n"
     ]
    }
   ],
   "source": [
    "import random\n",
    "number1 = random.randint(1,100)\n",
    "number2 = random.randint(1,100)\n",
    "n = number1 + number2\n",
    "x = eval(input(\"请输入数字和\"))\n",
    "if n == x:\n",
    "    print(\"真\")\n",
    "else:\n",
    "    print(\"假\")"
   ]
  },
  {
   "cell_type": "markdown",
   "metadata": {},
   "source": [
    "- 3\n",
    "![](../Photo/44.png)"
   ]
  },
  {
   "cell_type": "code",
   "execution_count": 48,
   "metadata": {},
   "outputs": [
    {
     "name": "stdout",
     "output_type": "stream",
     "text": [
      "今天星期几3\n",
      "几天以后3\n",
      "今天星期 6\n"
     ]
    }
   ],
   "source": [
    "a = eval(input(\"今天星期几\"))\n",
    "b = eval(input(\"几天以后\"))\n",
    "c = (a + b) % 7\n",
    "if c == 0:\n",
    "    print(\"今天是星期日\")\n",
    "else:    \n",
    "    print(\"今天星期\",c)"
   ]
  },
  {
   "cell_type": "markdown",
   "metadata": {},
   "source": [
    "- 4\n",
    "![](../Photo/45.png)"
   ]
  },
  {
   "cell_type": "code",
   "execution_count": 25,
   "metadata": {},
   "outputs": [
    {
     "name": "stdout",
     "output_type": "stream",
     "text": [
      "请输入一个数字5\n",
      "请再输入一个数字8\n",
      "再输入一个数字9\n",
      "[5, 8, 9]\n"
     ]
    }
   ],
   "source": [
    "x = eval(input(\"请输入一个数字\"))\n",
    "y = eval(input(\"请再输入一个数字\"))\n",
    "z = eval(input(\"再输入一个数字\"))\n",
    "list1 = [x,y,z]\n",
    "list1.sort()\n",
    "print(list1)\n"
   ]
  },
  {
   "cell_type": "markdown",
   "metadata": {},
   "source": [
    "- 5\n",
    "![](../Photo/46.png)"
   ]
  },
  {
   "cell_type": "code",
   "execution_count": 6,
   "metadata": {},
   "outputs": [
    {
     "name": "stdout",
     "output_type": "stream",
     "text": [
      "请输入第一种包装的重量50\n",
      "请输入第一种包装价钱24.59\n",
      "第二种重量25\n",
      "第二种价钱11.99\n",
      "第二种\n"
     ]
    }
   ],
   "source": [
    "x1 = eval(input(\"请输入第一种包装的重量\"))\n",
    "y1 = eval(input(\"请输入第一种包装价钱\"))\n",
    "x2 = eval(input(\"第二种重量\"))\n",
    "y2 = eval(input(\"第二种价钱\"))\n",
    "z1 = x1 / x2\n",
    "z2 = y1 / y2\n",
    "if z1 > 1 and z2 > 1:\n",
    "    print (\"第二种\")\n",
    "if z2 < 1 and z1 < 1:\n",
    "    print(\"第一种\")\n"
   ]
  },
  {
   "cell_type": "markdown",
   "metadata": {},
   "source": [
    "- 6\n",
    "![](../Photo/47.png)"
   ]
  },
  {
   "cell_type": "code",
   "execution_count": 50,
   "metadata": {},
   "outputs": [
    {
     "name": "stdout",
     "output_type": "stream",
     "text": [
      "请输入月4\n",
      "请输入年2015\n",
      "2015 年 4 月份 有30天\n"
     ]
    }
   ],
   "source": [
    "month = eval(input(\"请输入月\"))\n",
    "year = eval(input(\"请输入年\"))\n",
    "if ((year%4==0) and (year%100!=0)) or (year%400==0):\n",
    "    if month == 2:\n",
    "        print(year,\"年\",month,\"月份\",\"有28天\") \n",
    "else:\n",
    "    if month == 1 or month == 3 or month == 5 or month == 7 or month == 8 or month == 10 or month == 12:\n",
    "        print(year,\"年\",month,\"月份\",\"有31天\") \n",
    "    elif month == 2:\n",
    "        print(year,\"年\",month,\"月份\",\"有29天\") \n",
    "    elif month == 4 or month == 6 or month == 9 or month == 11:\n",
    "        print(year,\"年\",month,\"月份\",\"有30天\") "
   ]
  },
  {
   "cell_type": "markdown",
   "metadata": {},
   "source": [
    "- 7\n",
    "![](../Photo/48.png)"
   ]
  },
  {
   "cell_type": "code",
   "execution_count": 51,
   "metadata": {},
   "outputs": [
    {
     "name": "stdout",
     "output_type": "stream",
     "text": [
      "输入结果2\n",
      "YES\n"
     ]
    }
   ],
   "source": [
    "import random\n",
    "suiji = random.randint(1,2)\n",
    "jieguo = eval(input(\"输入结果\"))\n",
    "if suiji == jieguo:\n",
    "    print(\"YES\")\n",
    "else:\n",
    "    print(\"NO\")"
   ]
  },
  {
   "cell_type": "markdown",
   "metadata": {},
   "source": [
    "- 8\n",
    "![](../Photo/49.png)"
   ]
  },
  {
   "cell_type": "code",
   "execution_count": 38,
   "metadata": {},
   "outputs": [
    {
     "name": "stdout",
     "output_type": "stream",
     "text": [
      "石头=0 剪刀=2 布=1  2\n",
      "平局\n"
     ]
    }
   ],
   "source": [
    "import random\n",
    "suiji=random.randint(0,2)\n",
    "chuchu=eval(input(\"石头=0 剪刀=2 布=1  \"))\n",
    "if chuchu==suiji:\n",
    "    print(\"平局\")\n",
    "else:\n",
    "    if chuchu==0 and suiji==2:\n",
    "        print(\"赢了\")\n",
    "    elif chuchu==2 and suiji==0:\n",
    "        print(\"输了\")\n",
    "    elif chuchu>suiji:\n",
    "        print(\"赢了\")\n",
    "    else:\n",
    "        print(\"输了\")"
   ]
  },
  {
   "cell_type": "markdown",
   "metadata": {},
   "source": [
    "- 9\n",
    "![](../Photo/50.png)"
   ]
  },
  {
   "cell_type": "markdown",
   "metadata": {},
   "source": [
    "- 10\n",
    "![](../Photo/51.png)"
   ]
  },
  {
   "cell_type": "code",
   "execution_count": 37,
   "metadata": {},
   "outputs": [
    {
     "name": "stdout",
     "output_type": "stream",
     "text": [
      "这张牌是  黑桃 Queen\n"
     ]
    }
   ],
   "source": [
    "import random\n",
    "suiji1 = random.randint(1,4)\n",
    "suiji2 = random.randint(1,13)\n",
    "if suiji1 == 1:\n",
    "    suiji1 = \"红桃\"\n",
    "elif suiji1 == 2:\n",
    "    suiji1 = \"梅花\"\n",
    "elif suiji1 == 3:\n",
    "    suiji1 = \"方块\"\n",
    "elif suiji1 == 4:\n",
    "    suiji1 = \"黑桃\"\n",
    "\n",
    "if suiji2 == 1:\n",
    "    suiji2 = \"Ace\"\n",
    "elif suiji2 == 11:\n",
    "    suiji2 = \"Jack\"\n",
    "elif suiji2 == 12:\n",
    "    suiji2=\"Queen\"\n",
    "elif suiji2 == 13:\n",
    "    suiji2 = \"King\"\n",
    "print(\"这张牌是 \",suiji1,suiji2)"
   ]
  },
  {
   "cell_type": "markdown",
   "metadata": {},
   "source": [
    "- 11\n",
    "![](../Photo/52.png)"
   ]
  },
  {
   "cell_type": "code",
   "execution_count": 5,
   "metadata": {},
   "outputs": [
    {
     "name": "stdout",
     "output_type": "stream",
     "text": [
      "输入一个三位数121\n",
      "回文数\n"
     ]
    }
   ],
   "source": [
    "n = eval(input(\"输入一个三位数\"))\n",
    "ge = n % 10\n",
    "bai = n // 100\n",
    "if ge == bai:\n",
    "    print(\"回文数\")\n",
    "else:\n",
    "    print(\"不是回文数\")"
   ]
  },
  {
   "cell_type": "markdown",
   "metadata": {},
   "source": [
    "- 12\n",
    "![](../Photo/53.png)"
   ]
  },
  {
   "cell_type": "code",
   "execution_count": 6,
   "metadata": {},
   "outputs": [
    {
     "name": "stdout",
     "output_type": "stream",
     "text": [
      "一个边长1\n",
      "一个边长1\n",
      "一个边长1\n",
      "3\n"
     ]
    }
   ],
   "source": [
    "a = eval(input(\"一个边长\"))\n",
    "b = eval(input(\"一个边长\"))\n",
    "c = eval(input(\"一个边长\"))\n",
    "if a + b > c and a + c >b and b + c > a:\n",
    "    y = a + b + c\n",
    "    print(y)\n",
    "else:\n",
    "    print(\"不合法\")"
   ]
  }
 ],
 "metadata": {
  "kernelspec": {
   "display_name": "Python 3",
   "language": "python",
   "name": "python3"
  }
 },
 "nbformat": 4,
 "nbformat_minor": 2
}
